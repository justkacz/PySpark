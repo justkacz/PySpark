{
 "cells": [
  {
   "cell_type": "markdown",
   "id": "eaa19d3c",
   "metadata": {},
   "source": [
    "RDD = Resilient Distributed Datasets\n",
    "\n",
    "it supports in-memory processing computation => it stores the state of memory as an object across the jobs and the object is sharable between those jobs."
   ]
  },
  {
   "cell_type": "code",
   "execution_count": 13,
   "id": "d7d9d64d",
   "metadata": {},
   "outputs": [
    {
     "data": {
      "text/html": [
       "\n",
       "            <div>\n",
       "                <p><b>SparkSession - in-memory</b></p>\n",
       "                \n",
       "        <div>\n",
       "            <p><b>SparkContext</b></p>\n",
       "\n",
       "            <p><a href=\"http://L204LTP.sap-flex.com:4040\">Spark UI</a></p>\n",
       "\n",
       "            <dl>\n",
       "              <dt>Version</dt>\n",
       "                <dd><code>v3.3.0</code></dd>\n",
       "              <dt>Master</dt>\n",
       "                <dd><code>local[*]</code></dd>\n",
       "              <dt>AppName</dt>\n",
       "                <dd><code>pyspark-shell</code></dd>\n",
       "            </dl>\n",
       "        </div>\n",
       "        \n",
       "            </div>\n",
       "        "
      ],
      "text/plain": [
       "<pyspark.sql.session.SparkSession at 0x1b141524af0>"
      ]
     },
     "execution_count": 13,
     "metadata": {},
     "output_type": "execute_result"
    }
   ],
   "source": [
    "from pyspark.sql import SparkSession\n",
    "\n",
    "\n",
    "spark=SparkSession.builder.appName('DCSQL').getOrCreate()\n",
    "spark"
   ]
  },
  {
   "cell_type": "code",
   "execution_count": 12,
   "id": "2d22a9d3",
   "metadata": {},
   "outputs": [
    {
     "data": {
      "text/plain": [
       "[]"
      ]
     },
     "execution_count": 12,
     "metadata": {},
     "output_type": "execute_result"
    }
   ],
   "source": [
    "spark.catalog.listTables()"
   ]
  },
  {
   "cell_type": "code",
   "execution_count": 17,
   "id": "38c21f06",
   "metadata": {},
   "outputs": [
    {
     "name": "stdout",
     "output_type": "stream",
     "text": [
      "+----+-----+---+------+------+\n",
      "|year|month|day|gender|births|\n",
      "+----+-----+---+------+------+\n",
      "|1969|    1|  1|     F|  4046|\n",
      "|1969|    1|  1|     M|  4440|\n",
      "|1969|    1|  2|     F|  4454|\n",
      "|1969|    1|  2|     M|  4548|\n",
      "|1969|    1|  3|     F|  4548|\n",
      "|1969|    1|  3|     M|  4994|\n",
      "|1969|    1|  4|     F|  4440|\n",
      "|1969|    1|  4|     M|  4520|\n",
      "|1969|    1|  5|     F|  4192|\n",
      "|1969|    1|  5|     M|  4198|\n",
      "|1969|    1|  6|     F|  4710|\n",
      "|1969|    1|  6|     M|  4850|\n",
      "|1969|    1|  7|     F|  4646|\n",
      "|1969|    1|  7|     M|  5092|\n",
      "|1969|    1|  8|     F|  4800|\n",
      "|1969|    1|  8|     M|  4934|\n",
      "|1969|    1|  9|     F|  4592|\n",
      "|1969|    1|  9|     M|  4842|\n",
      "|1969|    1| 10|     F|  4852|\n",
      "|1969|    1| 10|     M|  5190|\n",
      "+----+-----+---+------+------+\n",
      "only showing top 20 rows\n",
      "\n"
     ]
    }
   ],
   "source": [
    "from pyspark import SparkFiles\n",
    "\n",
    "\n",
    "url='https://raw.githubusercontent.com/justkacz/csvfiles/main/births.csv'\n",
    "\n",
    "spark.sparkContext.addFile(url)\n",
    "\n",
    "df=spark.read.csv(SparkFiles.get('births.csv'), header=True, inferSchema=True)\n",
    "df.show()"
   ]
  },
  {
   "cell_type": "code",
   "execution_count": 22,
   "id": "4c922b9b",
   "metadata": {},
   "outputs": [
    {
     "name": "stdout",
     "output_type": "stream",
     "text": [
      "+---------+---------+-----------+\n",
      "|namespace|tableName|isTemporary|\n",
      "+---------+---------+-----------+\n",
      "+---------+---------+-----------+\n",
      "\n"
     ]
    }
   ],
   "source": [
    "spark.catalog.listTables()\n",
    "\n",
    "# or using sql:\n",
    "spark.sql('show tables').show()"
   ]
  },
  {
   "cell_type": "code",
   "execution_count": 30,
   "id": "15cdc100",
   "metadata": {},
   "outputs": [
    {
     "name": "stdout",
     "output_type": "stream",
     "text": [
      "+---------+\n",
      "|namespace|\n",
      "+---------+\n",
      "|  default|\n",
      "+---------+\n",
      "\n"
     ]
    }
   ],
   "source": [
    "spark.catalog.listDatabases()\n",
    "\n",
    "# or using sql:\n",
    "spark.sql('show databases').show()"
   ]
  },
  {
   "cell_type": "code",
   "execution_count": 23,
   "id": "dd6eef3a",
   "metadata": {},
   "outputs": [
    {
     "data": {
      "text/plain": [
       "'default'"
      ]
     },
     "execution_count": 23,
     "metadata": {},
     "output_type": "execute_result"
    }
   ],
   "source": [
    "# current database:\n",
    "\n",
    "spark.catalog.currentDatabase()"
   ]
  },
  {
   "cell_type": "code",
   "execution_count": 31,
   "id": "3f48cedc",
   "metadata": {},
   "outputs": [
    {
     "data": {
      "text/plain": [
       "DataFrame[]"
      ]
     },
     "execution_count": 31,
     "metadata": {},
     "output_type": "execute_result"
    }
   ],
   "source": [
    "# creating a new database:\n",
    "spark.sql('create database sparksql')"
   ]
  },
  {
   "cell_type": "code",
   "execution_count": 33,
   "id": "a56a8295",
   "metadata": {},
   "outputs": [
    {
     "name": "stdout",
     "output_type": "stream",
     "text": [
      "+---------+\n",
      "|namespace|\n",
      "+---------+\n",
      "|  default|\n",
      "| sparksql|\n",
      "+---------+\n",
      "\n"
     ]
    }
   ],
   "source": [
    "spark.sql('show databases').show()"
   ]
  },
  {
   "cell_type": "code",
   "execution_count": 35,
   "id": "056da411",
   "metadata": {},
   "outputs": [],
   "source": [
    "#creating temporary table in default database:\n",
    "\n",
    "df.createOrReplaceTempView('dfsql')"
   ]
  },
  {
   "cell_type": "code",
   "execution_count": 36,
   "id": "a8204c90",
   "metadata": {},
   "outputs": [
    {
     "name": "stdout",
     "output_type": "stream",
     "text": [
      "+---------+---------+-----------+\n",
      "|namespace|tableName|isTemporary|\n",
      "+---------+---------+-----------+\n",
      "|         |    dfsql|       true|\n",
      "+---------+---------+-----------+\n",
      "\n"
     ]
    }
   ],
   "source": [
    "spark.sql('show tables').show()"
   ]
  },
  {
   "cell_type": "code",
   "execution_count": 37,
   "id": "4c480e9c",
   "metadata": {},
   "outputs": [
    {
     "name": "stdout",
     "output_type": "stream",
     "text": [
      "+----+-----+---+------+------+\n",
      "|year|month|day|gender|births|\n",
      "+----+-----+---+------+------+\n",
      "|1969|    1|  1|     F|  4046|\n",
      "|1969|    1|  1|     M|  4440|\n",
      "|1969|    1|  2|     F|  4454|\n",
      "|1969|    1|  2|     M|  4548|\n",
      "|1969|    1|  3|     F|  4548|\n",
      "|1969|    1|  3|     M|  4994|\n",
      "|1969|    1|  4|     F|  4440|\n",
      "|1969|    1|  4|     M|  4520|\n",
      "|1969|    1|  5|     F|  4192|\n",
      "|1969|    1|  5|     M|  4198|\n",
      "+----+-----+---+------+------+\n",
      "\n"
     ]
    }
   ],
   "source": [
    "query= \"from dfsql select * limit 10\"\n",
    "\n",
    "df_10=spark.sql(query)\n",
    "df_10.show()"
   ]
  },
  {
   "cell_type": "code",
   "execution_count": 40,
   "id": "60746b38",
   "metadata": {},
   "outputs": [
    {
     "data": {
      "text/html": [
       "<div>\n",
       "<style scoped>\n",
       "    .dataframe tbody tr th:only-of-type {\n",
       "        vertical-align: middle;\n",
       "    }\n",
       "\n",
       "    .dataframe tbody tr th {\n",
       "        vertical-align: top;\n",
       "    }\n",
       "\n",
       "    .dataframe thead th {\n",
       "        text-align: right;\n",
       "    }\n",
       "</style>\n",
       "<table border=\"1\" class=\"dataframe\">\n",
       "  <thead>\n",
       "    <tr style=\"text-align: right;\">\n",
       "      <th></th>\n",
       "      <th>year</th>\n",
       "      <th>gender</th>\n",
       "      <th>tot_births</th>\n",
       "    </tr>\n",
       "  </thead>\n",
       "  <tbody>\n",
       "    <tr>\n",
       "      <th>0</th>\n",
       "      <td>1969</td>\n",
       "      <td>F</td>\n",
       "      <td>1753634</td>\n",
       "    </tr>\n",
       "    <tr>\n",
       "      <th>1</th>\n",
       "      <td>1969</td>\n",
       "      <td>M</td>\n",
       "      <td>1846572</td>\n",
       "    </tr>\n",
       "    <tr>\n",
       "      <th>2</th>\n",
       "      <td>1970</td>\n",
       "      <td>M</td>\n",
       "      <td>1918636</td>\n",
       "    </tr>\n",
       "    <tr>\n",
       "      <th>3</th>\n",
       "      <td>1970</td>\n",
       "      <td>F</td>\n",
       "      <td>1819164</td>\n",
       "    </tr>\n",
       "    <tr>\n",
       "      <th>4</th>\n",
       "      <td>1971</td>\n",
       "      <td>F</td>\n",
       "      <td>1736774</td>\n",
       "    </tr>\n",
       "    <tr>\n",
       "      <th>...</th>\n",
       "      <td>...</td>\n",
       "      <td>...</td>\n",
       "      <td>...</td>\n",
       "    </tr>\n",
       "    <tr>\n",
       "      <th>75</th>\n",
       "      <td>2006</td>\n",
       "      <td>M</td>\n",
       "      <td>2188268</td>\n",
       "    </tr>\n",
       "    <tr>\n",
       "      <th>76</th>\n",
       "      <td>2007</td>\n",
       "      <td>F</td>\n",
       "      <td>2111890</td>\n",
       "    </tr>\n",
       "    <tr>\n",
       "      <th>77</th>\n",
       "      <td>2007</td>\n",
       "      <td>M</td>\n",
       "      <td>2212118</td>\n",
       "    </tr>\n",
       "    <tr>\n",
       "      <th>78</th>\n",
       "      <td>2008</td>\n",
       "      <td>M</td>\n",
       "      <td>2177227</td>\n",
       "    </tr>\n",
       "    <tr>\n",
       "      <th>79</th>\n",
       "      <td>2008</td>\n",
       "      <td>F</td>\n",
       "      <td>2077929</td>\n",
       "    </tr>\n",
       "  </tbody>\n",
       "</table>\n",
       "<p>80 rows × 3 columns</p>\n",
       "</div>"
      ],
      "text/plain": [
       "    year gender  tot_births\n",
       "0   1969      F     1753634\n",
       "1   1969      M     1846572\n",
       "2   1970      M     1918636\n",
       "3   1970      F     1819164\n",
       "4   1971      F     1736774\n",
       "..   ...    ...         ...\n",
       "75  2006      M     2188268\n",
       "76  2007      F     2111890\n",
       "77  2007      M     2212118\n",
       "78  2008      M     2177227\n",
       "79  2008      F     2077929\n",
       "\n",
       "[80 rows x 3 columns]"
      ]
     },
     "execution_count": 40,
     "metadata": {},
     "output_type": "execute_result"
    }
   ],
   "source": [
    "# converting spark DataFrame to a pandas DataFrame:\n",
    "query=('from dfsql select year, gender, sum(births) as tot_births group by year, gender order by year')\n",
    "dfs=spark.sql(query)\n",
    "dfspd=dfs.toPandas()\n",
    "dfspd  # pandas df cannot be used with sql methods -> its not included in the table/view catalog \n",
    "# (first must be converted = .createOrReplaceTempView())"
   ]
  },
  {
   "cell_type": "code",
   "execution_count": 43,
   "id": "11986fae",
   "metadata": {},
   "outputs": [
    {
     "data": {
      "text/html": [
       "<div>\n",
       "<style scoped>\n",
       "    .dataframe tbody tr th:only-of-type {\n",
       "        vertical-align: middle;\n",
       "    }\n",
       "\n",
       "    .dataframe tbody tr th {\n",
       "        vertical-align: top;\n",
       "    }\n",
       "\n",
       "    .dataframe thead th {\n",
       "        text-align: right;\n",
       "    }\n",
       "</style>\n",
       "<table border=\"1\" class=\"dataframe\">\n",
       "  <thead>\n",
       "    <tr style=\"text-align: right;\">\n",
       "      <th></th>\n",
       "      <th>a</th>\n",
       "      <th>b</th>\n",
       "      <th>c</th>\n",
       "    </tr>\n",
       "  </thead>\n",
       "  <tbody>\n",
       "    <tr>\n",
       "      <th>0</th>\n",
       "      <td>1.764052</td>\n",
       "      <td>0.400157</td>\n",
       "      <td>0.978738</td>\n",
       "    </tr>\n",
       "    <tr>\n",
       "      <th>1</th>\n",
       "      <td>2.240893</td>\n",
       "      <td>1.867558</td>\n",
       "      <td>-0.977278</td>\n",
       "    </tr>\n",
       "    <tr>\n",
       "      <th>2</th>\n",
       "      <td>0.950088</td>\n",
       "      <td>-0.151357</td>\n",
       "      <td>-0.103219</td>\n",
       "    </tr>\n",
       "    <tr>\n",
       "      <th>3</th>\n",
       "      <td>0.410599</td>\n",
       "      <td>0.144044</td>\n",
       "      <td>1.454274</td>\n",
       "    </tr>\n",
       "  </tbody>\n",
       "</table>\n",
       "</div>"
      ],
      "text/plain": [
       "          a         b         c\n",
       "0  1.764052  0.400157  0.978738\n",
       "1  2.240893  1.867558 -0.977278\n",
       "2  0.950088 -0.151357 -0.103219\n",
       "3  0.410599  0.144044  1.454274"
      ]
     },
     "execution_count": 43,
     "metadata": {},
     "output_type": "execute_result"
    }
   ],
   "source": [
    "import pandas as pd\n",
    "import numpy as np\n",
    "\n",
    "rng=np.random.RandomState(0)\n",
    "\n",
    "# converting pandas DF to spark DF, spark DF is stored LOCALLY not in the SparkSession catalog -> data cannot be accessed in \n",
    "# other context\n",
    "\n",
    "pddf=pd.DataFrame(rng.randn(12).reshape(4,3), columns=['a', 'b', 'c'])\n",
    "pddf"
   ]
  },
  {
   "cell_type": "code",
   "execution_count": 48,
   "id": "3f2268ab",
   "metadata": {},
   "outputs": [],
   "source": [
    "sdf=spark.createDataFrame(pddf)\n",
    "sdf.createOrReplaceTempView('sdf')"
   ]
  },
  {
   "cell_type": "code",
   "execution_count": 49,
   "id": "91618c69",
   "metadata": {},
   "outputs": [
    {
     "data": {
      "text/plain": [
       "[Table(name='dfsql', database=None, description=None, tableType='TEMPORARY', isTemporary=True),\n",
       " Table(name='sdf', database=None, description=None, tableType='TEMPORARY', isTemporary=True)]"
      ]
     },
     "execution_count": 49,
     "metadata": {},
     "output_type": "execute_result"
    }
   ],
   "source": [
    "spark.catalog.listTables()"
   ]
  },
  {
   "cell_type": "code",
   "execution_count": null,
   "id": "a7300b41",
   "metadata": {},
   "outputs": [],
   "source": []
  }
 ],
 "metadata": {
  "kernelspec": {
   "display_name": "Python 3",
   "language": "python",
   "name": "python3"
  },
  "language_info": {
   "codemirror_mode": {
    "name": "ipython",
    "version": 3
   },
   "file_extension": ".py",
   "mimetype": "text/x-python",
   "name": "python",
   "nbconvert_exporter": "python",
   "pygments_lexer": "ipython3",
   "version": "3.8.8"
  }
 },
 "nbformat": 4,
 "nbformat_minor": 5
}
