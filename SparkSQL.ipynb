{
 "cells": [
  {
   "cell_type": "markdown",
   "id": "6ee75606",
   "metadata": {},
   "source": [
    "RDD = Resilient Distributed Datasets\n",
    "\n",
    "it supports in-memory processing computation => it stores the state of memory as an object across the jobs and the object is sharable between those jobs."
   ]
  },
  {
   "cell_type": "code",
   "execution_count": 1,
   "id": "4ab61174",
   "metadata": {},
   "outputs": [
    {
     "data": {
      "text/html": [
       "\n",
       "            <div>\n",
       "                <p><b>SparkSession - in-memory</b></p>\n",
       "                \n",
       "        <div>\n",
       "            <p><b>SparkContext</b></p>\n",
       "\n",
       "            <p><a href=\"http://L204LTP.sap-flex.com:4041\">Spark UI</a></p>\n",
       "\n",
       "            <dl>\n",
       "              <dt>Version</dt>\n",
       "                <dd><code>v3.3.0</code></dd>\n",
       "              <dt>Master</dt>\n",
       "                <dd><code>local[*]</code></dd>\n",
       "              <dt>AppName</dt>\n",
       "                <dd><code>SPSQL</code></dd>\n",
       "            </dl>\n",
       "        </div>\n",
       "        \n",
       "            </div>\n",
       "        "
      ],
      "text/plain": [
       "<pyspark.sql.session.SparkSession at 0x1859c54a640>"
      ]
     },
     "execution_count": 1,
     "metadata": {},
     "output_type": "execute_result"
    }
   ],
   "source": [
    "from pyspark.sql import SparkSession\n",
    "\n",
    "\n",
    "spark=SparkSession.builder.appName('SPSQL').getOrCreate()\n",
    "spark"
   ]
  },
  {
   "cell_type": "code",
   "execution_count": 3,
   "id": "8c8f32b7",
   "metadata": {},
   "outputs": [
    {
     "data": {
      "text/plain": [
       "[]"
      ]
     },
     "execution_count": 3,
     "metadata": {},
     "output_type": "execute_result"
    }
   ],
   "source": [
    "spark.catalog.listTables()"
   ]
  },
  {
   "cell_type": "code",
   "execution_count": 2,
   "id": "9c943675",
   "metadata": {},
   "outputs": [
    {
     "name": "stdout",
     "output_type": "stream",
     "text": [
      "+----+-----+---+------+------+\n",
      "|year|month|day|gender|births|\n",
      "+----+-----+---+------+------+\n",
      "|1969|    1|  1|     F|  4046|\n",
      "|1969|    1|  1|     M|  4440|\n",
      "|1969|    1|  2|     F|  4454|\n",
      "|1969|    1|  2|     M|  4548|\n",
      "|1969|    1|  3|     F|  4548|\n",
      "|1969|    1|  3|     M|  4994|\n",
      "|1969|    1|  4|     F|  4440|\n",
      "|1969|    1|  4|     M|  4520|\n",
      "|1969|    1|  5|     F|  4192|\n",
      "|1969|    1|  5|     M|  4198|\n",
      "|1969|    1|  6|     F|  4710|\n",
      "|1969|    1|  6|     M|  4850|\n",
      "|1969|    1|  7|     F|  4646|\n",
      "|1969|    1|  7|     M|  5092|\n",
      "|1969|    1|  8|     F|  4800|\n",
      "|1969|    1|  8|     M|  4934|\n",
      "|1969|    1|  9|     F|  4592|\n",
      "|1969|    1|  9|     M|  4842|\n",
      "|1969|    1| 10|     F|  4852|\n",
      "|1969|    1| 10|     M|  5190|\n",
      "+----+-----+---+------+------+\n",
      "only showing top 20 rows\n",
      "\n"
     ]
    }
   ],
   "source": [
    "from pyspark import SparkFiles\n",
    "\n",
    "\n",
    "url='https://raw.githubusercontent.com/justkacz/csvfiles/main/births.csv'\n",
    "\n",
    "spark.sparkContext.addFile(url)\n",
    "\n",
    "df=spark.read.csv(SparkFiles.get('births.csv'), header=True, inferSchema=True)\n",
    "df.show()"
   ]
  },
  {
   "cell_type": "code",
   "execution_count": 22,
   "id": "6c3c9e63",
   "metadata": {},
   "outputs": [
    {
     "name": "stdout",
     "output_type": "stream",
     "text": [
      "+---------+---------+-----------+\n",
      "|namespace|tableName|isTemporary|\n",
      "+---------+---------+-----------+\n",
      "+---------+---------+-----------+\n",
      "\n"
     ]
    }
   ],
   "source": [
    "spark.catalog.listTables()\n",
    "\n",
    "# or using sql:\n",
    "spark.sql('show tables').show()"
   ]
  },
  {
   "cell_type": "code",
   "execution_count": 4,
   "id": "7d900dd2",
   "metadata": {},
   "outputs": [
    {
     "name": "stdout",
     "output_type": "stream",
     "text": [
      "+---------+\n",
      "|namespace|\n",
      "+---------+\n",
      "|  default|\n",
      "+---------+\n",
      "\n"
     ]
    }
   ],
   "source": [
    "spark.catalog.listDatabases()\n",
    "\n",
    "# or using sql:\n",
    "spark.sql('show databases').show()"
   ]
  },
  {
   "cell_type": "code",
   "execution_count": 5,
   "id": "bea36175",
   "metadata": {},
   "outputs": [
    {
     "data": {
      "text/plain": [
       "'default'"
      ]
     },
     "execution_count": 5,
     "metadata": {},
     "output_type": "execute_result"
    }
   ],
   "source": [
    "# current database:\n",
    "\n",
    "spark.catalog.currentDatabase()"
   ]
  },
  {
   "cell_type": "code",
   "execution_count": 6,
   "id": "b5229d0b",
   "metadata": {},
   "outputs": [
    {
     "data": {
      "text/plain": [
       "DataFrame[]"
      ]
     },
     "execution_count": 6,
     "metadata": {},
     "output_type": "execute_result"
    }
   ],
   "source": [
    "# creating a new database:\n",
    "spark.sql('create database sparksql')"
   ]
  },
  {
   "cell_type": "code",
   "execution_count": 7,
   "id": "ae90ad8d",
   "metadata": {},
   "outputs": [
    {
     "name": "stdout",
     "output_type": "stream",
     "text": [
      "+---------+\n",
      "|namespace|\n",
      "+---------+\n",
      "|  default|\n",
      "| sparksql|\n",
      "+---------+\n",
      "\n"
     ]
    }
   ],
   "source": [
    "spark.sql('show databases').show()"
   ]
  },
  {
   "cell_type": "code",
   "execution_count": 8,
   "id": "c9486936",
   "metadata": {},
   "outputs": [],
   "source": [
    "#creating temporary table in default database:\n",
    "\n",
    "df.createOrReplaceTempView('dfsql')"
   ]
  },
  {
   "cell_type": "code",
   "execution_count": 9,
   "id": "6f1d4baa",
   "metadata": {},
   "outputs": [
    {
     "name": "stdout",
     "output_type": "stream",
     "text": [
      "+---------+---------+-----------+\n",
      "|namespace|tableName|isTemporary|\n",
      "+---------+---------+-----------+\n",
      "|         |    dfsql|       true|\n",
      "+---------+---------+-----------+\n",
      "\n"
     ]
    }
   ],
   "source": [
    "spark.sql('show tables').show()"
   ]
  },
  {
   "cell_type": "code",
   "execution_count": 10,
   "id": "a9cda9e6",
   "metadata": {},
   "outputs": [
    {
     "name": "stdout",
     "output_type": "stream",
     "text": [
      "+----+-----+---+------+------+\n",
      "|year|month|day|gender|births|\n",
      "+----+-----+---+------+------+\n",
      "|1969|    1|  1|     F|  4046|\n",
      "|1969|    1|  1|     M|  4440|\n",
      "|1969|    1|  2|     F|  4454|\n",
      "|1969|    1|  2|     M|  4548|\n",
      "|1969|    1|  3|     F|  4548|\n",
      "|1969|    1|  3|     M|  4994|\n",
      "|1969|    1|  4|     F|  4440|\n",
      "|1969|    1|  4|     M|  4520|\n",
      "|1969|    1|  5|     F|  4192|\n",
      "|1969|    1|  5|     M|  4198|\n",
      "+----+-----+---+------+------+\n",
      "\n"
     ]
    }
   ],
   "source": [
    "query= \"from dfsql select * limit 10\"\n",
    "\n",
    "df_10=spark.sql(query)\n",
    "df_10.show()"
   ]
  },
  {
   "cell_type": "code",
   "execution_count": 40,
   "id": "d9f93f36",
   "metadata": {},
   "outputs": [
    {
     "data": {
      "text/html": [
       "<div>\n",
       "<style scoped>\n",
       "    .dataframe tbody tr th:only-of-type {\n",
       "        vertical-align: middle;\n",
       "    }\n",
       "\n",
       "    .dataframe tbody tr th {\n",
       "        vertical-align: top;\n",
       "    }\n",
       "\n",
       "    .dataframe thead th {\n",
       "        text-align: right;\n",
       "    }\n",
       "</style>\n",
       "<table border=\"1\" class=\"dataframe\">\n",
       "  <thead>\n",
       "    <tr style=\"text-align: right;\">\n",
       "      <th></th>\n",
       "      <th>year</th>\n",
       "      <th>gender</th>\n",
       "      <th>tot_births</th>\n",
       "    </tr>\n",
       "  </thead>\n",
       "  <tbody>\n",
       "    <tr>\n",
       "      <th>0</th>\n",
       "      <td>1969</td>\n",
       "      <td>F</td>\n",
       "      <td>1753634</td>\n",
       "    </tr>\n",
       "    <tr>\n",
       "      <th>1</th>\n",
       "      <td>1969</td>\n",
       "      <td>M</td>\n",
       "      <td>1846572</td>\n",
       "    </tr>\n",
       "    <tr>\n",
       "      <th>2</th>\n",
       "      <td>1970</td>\n",
       "      <td>M</td>\n",
       "      <td>1918636</td>\n",
       "    </tr>\n",
       "    <tr>\n",
       "      <th>3</th>\n",
       "      <td>1970</td>\n",
       "      <td>F</td>\n",
       "      <td>1819164</td>\n",
       "    </tr>\n",
       "    <tr>\n",
       "      <th>4</th>\n",
       "      <td>1971</td>\n",
       "      <td>F</td>\n",
       "      <td>1736774</td>\n",
       "    </tr>\n",
       "    <tr>\n",
       "      <th>...</th>\n",
       "      <td>...</td>\n",
       "      <td>...</td>\n",
       "      <td>...</td>\n",
       "    </tr>\n",
       "    <tr>\n",
       "      <th>75</th>\n",
       "      <td>2006</td>\n",
       "      <td>M</td>\n",
       "      <td>2188268</td>\n",
       "    </tr>\n",
       "    <tr>\n",
       "      <th>76</th>\n",
       "      <td>2007</td>\n",
       "      <td>F</td>\n",
       "      <td>2111890</td>\n",
       "    </tr>\n",
       "    <tr>\n",
       "      <th>77</th>\n",
       "      <td>2007</td>\n",
       "      <td>M</td>\n",
       "      <td>2212118</td>\n",
       "    </tr>\n",
       "    <tr>\n",
       "      <th>78</th>\n",
       "      <td>2008</td>\n",
       "      <td>M</td>\n",
       "      <td>2177227</td>\n",
       "    </tr>\n",
       "    <tr>\n",
       "      <th>79</th>\n",
       "      <td>2008</td>\n",
       "      <td>F</td>\n",
       "      <td>2077929</td>\n",
       "    </tr>\n",
       "  </tbody>\n",
       "</table>\n",
       "<p>80 rows × 3 columns</p>\n",
       "</div>"
      ],
      "text/plain": [
       "    year gender  tot_births\n",
       "0   1969      F     1753634\n",
       "1   1969      M     1846572\n",
       "2   1970      M     1918636\n",
       "3   1970      F     1819164\n",
       "4   1971      F     1736774\n",
       "..   ...    ...         ...\n",
       "75  2006      M     2188268\n",
       "76  2007      F     2111890\n",
       "77  2007      M     2212118\n",
       "78  2008      M     2177227\n",
       "79  2008      F     2077929\n",
       "\n",
       "[80 rows x 3 columns]"
      ]
     },
     "execution_count": 40,
     "metadata": {},
     "output_type": "execute_result"
    }
   ],
   "source": [
    "# converting spark DataFrame to a pandas DataFrame:\n",
    "query=('from dfsql select year, gender, sum(births) as tot_births group by year, gender order by year')\n",
    "dfs=spark.sql(query)\n",
    "dfspd=dfs.toPandas()\n",
    "dfspd  # pandas df cannot be used with sql methods -> its not included in the table/view catalog \n",
    "# (first must be converted = .createOrReplaceTempView())"
   ]
  },
  {
   "cell_type": "code",
   "execution_count": 11,
   "id": "59ebea8a",
   "metadata": {},
   "outputs": [
    {
     "data": {
      "text/html": [
       "<div>\n",
       "<style scoped>\n",
       "    .dataframe tbody tr th:only-of-type {\n",
       "        vertical-align: middle;\n",
       "    }\n",
       "\n",
       "    .dataframe tbody tr th {\n",
       "        vertical-align: top;\n",
       "    }\n",
       "\n",
       "    .dataframe thead th {\n",
       "        text-align: right;\n",
       "    }\n",
       "</style>\n",
       "<table border=\"1\" class=\"dataframe\">\n",
       "  <thead>\n",
       "    <tr style=\"text-align: right;\">\n",
       "      <th></th>\n",
       "      <th>a</th>\n",
       "      <th>b</th>\n",
       "      <th>c</th>\n",
       "    </tr>\n",
       "  </thead>\n",
       "  <tbody>\n",
       "    <tr>\n",
       "      <th>0</th>\n",
       "      <td>1.764052</td>\n",
       "      <td>0.400157</td>\n",
       "      <td>0.978738</td>\n",
       "    </tr>\n",
       "    <tr>\n",
       "      <th>1</th>\n",
       "      <td>2.240893</td>\n",
       "      <td>1.867558</td>\n",
       "      <td>-0.977278</td>\n",
       "    </tr>\n",
       "    <tr>\n",
       "      <th>2</th>\n",
       "      <td>0.950088</td>\n",
       "      <td>-0.151357</td>\n",
       "      <td>-0.103219</td>\n",
       "    </tr>\n",
       "    <tr>\n",
       "      <th>3</th>\n",
       "      <td>0.410599</td>\n",
       "      <td>0.144044</td>\n",
       "      <td>1.454274</td>\n",
       "    </tr>\n",
       "  </tbody>\n",
       "</table>\n",
       "</div>"
      ],
      "text/plain": [
       "          a         b         c\n",
       "0  1.764052  0.400157  0.978738\n",
       "1  2.240893  1.867558 -0.977278\n",
       "2  0.950088 -0.151357 -0.103219\n",
       "3  0.410599  0.144044  1.454274"
      ]
     },
     "execution_count": 11,
     "metadata": {},
     "output_type": "execute_result"
    }
   ],
   "source": [
    "import pandas as pd\n",
    "import numpy as np\n",
    "\n",
    "rng=np.random.RandomState(0)\n",
    "\n",
    "# converting pandas DF to spark DF, spark DF is stored LOCALLY not in the SparkSession catalog -> data cannot be accessed in \n",
    "# other context\n",
    "\n",
    "pddf=pd.DataFrame(rng.randn(12).reshape(4,3), columns=['a', 'b', 'c'])\n",
    "pddf"
   ]
  },
  {
   "cell_type": "code",
   "execution_count": 12,
   "id": "244b9e0f",
   "metadata": {},
   "outputs": [],
   "source": [
    "sdf=spark.createDataFrame(pddf)\n",
    "sdf.createOrReplaceTempView('sdf')"
   ]
  },
  {
   "cell_type": "code",
   "execution_count": 49,
   "id": "eaea5a38",
   "metadata": {},
   "outputs": [
    {
     "data": {
      "text/plain": [
       "[Table(name='dfsql', database=None, description=None, tableType='TEMPORARY', isTemporary=True),\n",
       " Table(name='sdf', database=None, description=None, tableType='TEMPORARY', isTemporary=True)]"
      ]
     },
     "execution_count": 49,
     "metadata": {},
     "output_type": "execute_result"
    }
   ],
   "source": [
    "spark.catalog.listTables()"
   ]
  },
  {
   "cell_type": "code",
   "execution_count": 16,
   "id": "d9844367",
   "metadata": {},
   "outputs": [
    {
     "name": "stdout",
     "output_type": "stream",
     "text": [
      "+------+\n",
      "|gender|\n",
      "+------+\n",
      "|     F|\n",
      "|     M|\n",
      "|     F|\n",
      "|     M|\n",
      "|     F|\n",
      "|     M|\n",
      "|     F|\n",
      "|     M|\n",
      "|     F|\n",
      "|     M|\n",
      "|     F|\n",
      "|     M|\n",
      "|     F|\n",
      "|     M|\n",
      "|     F|\n",
      "|     M|\n",
      "|     F|\n",
      "|     M|\n",
      "|     F|\n",
      "|     M|\n",
      "+------+\n",
      "only showing top 20 rows\n",
      "\n"
     ]
    }
   ],
   "source": [
    "df.select('gender').show()"
   ]
  },
  {
   "cell_type": "code",
   "execution_count": 20,
   "id": "96286ea4",
   "metadata": {},
   "outputs": [
    {
     "name": "stdout",
     "output_type": "stream",
     "text": [
      "+----+-----+---+------+------+\n",
      "|year|month|day|gender|births|\n",
      "+----+-----+---+------+------+\n",
      "|1969|    1|  1|     F|  4046|\n",
      "|1969|    1|  2|     F|  4454|\n",
      "|1969|    1|  3|     F|  4548|\n",
      "|1969|    1|  4|     F|  4440|\n",
      "|1969|    1|  5|     F|  4192|\n",
      "|1969|    1|  6|     F|  4710|\n",
      "|1969|    1|  7|     F|  4646|\n",
      "|1969|    1|  8|     F|  4800|\n",
      "|1969|    1|  9|     F|  4592|\n",
      "|1969|    1| 10|     F|  4852|\n",
      "|1969|    1| 11|     F|  4580|\n",
      "|1969|    1| 12|     F|  4126|\n",
      "|1969|    1| 13|     F|  4758|\n",
      "|1969|    1| 14|     F|  5070|\n",
      "|1969|    1| 15|     F|  4798|\n",
      "|1969|    1| 16|     F|  4790|\n",
      "|1969|    1| 17|     F|  4944|\n",
      "|1969|    1| 18|     F|  4670|\n",
      "|1969|    1| 19|     F|  4170|\n",
      "|1969|    1| 20|     F|  4884|\n",
      "+----+-----+---+------+------+\n",
      "only showing top 20 rows\n",
      "\n"
     ]
    }
   ],
   "source": [
    "# pyspark DF -> filter\n",
    "df.filter(df['gender']=='F').show()"
   ]
  },
  {
   "cell_type": "code",
   "execution_count": 26,
   "id": "dc3f7c08",
   "metadata": {},
   "outputs": [
    {
     "name": "stdout",
     "output_type": "stream",
     "text": [
      "+----+-----+---+------+------+\n",
      "|year|month|day|gender|births|\n",
      "+----+-----+---+------+------+\n",
      "|1969|    1|  1|     F|  4046|\n",
      "|1969|    1|  2|     F|  4454|\n",
      "|1969|    1|  3|     F|  4548|\n",
      "|1969|    1|  4|     F|  4440|\n",
      "|1969|    1|  5|     F|  4192|\n",
      "+----+-----+---+------+------+\n",
      "\n"
     ]
    }
   ],
   "source": [
    "# or using sql query:\n",
    "spark.sql('from dfsql select * where gender = \"F\" limit 5').show()"
   ]
  },
  {
   "cell_type": "code",
   "execution_count": 68,
   "id": "9fa8150e",
   "metadata": {},
   "outputs": [
    {
     "name": "stdout",
     "output_type": "stream",
     "text": [
      "+-------+-------+--------------+-----+\n",
      "|OrderID|   from| Category Name|sales|\n",
      "+-------+-------+--------------+-----+\n",
      "|  10248| France|Dairy Products|  168|\n",
      "|  10248| France|Grains/Cereals|   98|\n",
      "|  10248| France|Dairy Products|  174|\n",
      "|  10249| France|       Produce|167,4|\n",
      "|  10249| France|       Produce| 1696|\n",
      "|  10250|Belarus|       Seafood|   77|\n",
      "|  10250|Belarus|       Produce| 1484|\n",
      "|  10250|Belarus|    Condiments|  252|\n",
      "|  10251| France|Grains/Cereals|100,8|\n",
      "|  10251| France|Grains/Cereals|  234|\n",
      "|  10251| France|    Condiments|  336|\n",
      "|  10252| France|Dairy Products| 2592|\n",
      "|  10252| France|Dairy Products|   50|\n",
      "|  10252| France|Dairy Products| 1088|\n",
      "|  10253|Belarus|Dairy Products|  200|\n",
      "|  10253|Belarus|     Beverages|604,8|\n",
      "|  10253|Belarus|   Confections|  640|\n",
      "|  10254|Belgium|     Beverages|   54|\n",
      "|  10254|Belgium|  Meat/Poultry|403,2|\n",
      "|  10254|Belgium|       Produce|  168|\n",
      "+-------+-------+--------------+-----+\n",
      "only showing top 20 rows\n",
      "\n"
     ]
    }
   ],
   "source": [
    "url2='https://raw.githubusercontent.com/justkacz/csvfiles/main/Dane%20NW2.csv'\n",
    "\n",
    "spark.sparkContext.addFile(url2)\n",
    "\n",
    "df2=spark.read.option(\"delimiter\", \";\").csv(SparkFiles.get('Dane NW2.csv'), inferSchema=True, header=True)\n",
    "df2.show()"
   ]
  },
  {
   "cell_type": "code",
   "execution_count": 52,
   "id": "3c6cf3da",
   "metadata": {},
   "outputs": [
    {
     "name": "stdout",
     "output_type": "stream",
     "text": [
      "+-------+-------+--------------+-----+\n",
      "|OrderID|   from| Category Name|sales|\n",
      "+-------+-------+--------------+-----+\n",
      "|  10248| France|Dairy Products|  168|\n",
      "|  10248| France|Dairy Products|  174|\n",
      "|  10249| France|       Produce|167,4|\n",
      "|  10249| France|       Produce| 1696|\n",
      "|  10250|Belarus|       Produce| 1484|\n",
      "|  10252| France|Dairy Products| 2592|\n",
      "|  10252| France|Dairy Products|   50|\n",
      "|  10252| France|Dairy Products| 1088|\n",
      "|  10253|Belarus|Dairy Products|  200|\n",
      "|  10254|Belgium|       Produce|  168|\n",
      "|  10255| France|Dairy Products|486,5|\n",
      "|  10255| France|Dairy Products| 1320|\n",
      "|  10258|Belgium|Dairy Products|153,6|\n",
      "|  10261| France|Dairy Products|  160|\n",
      "|  10262|  Spain|       Produce|  360|\n",
      "|  10263|Belgium|       Produce|  288|\n",
      "|  10266| France|Dairy Products|364,8|\n",
      "|  10267|Austria|Dairy Products| 3080|\n",
      "|  10268|Austria|Dairy Products|111,2|\n",
      "|  10269| France|Dairy Products|  120|\n",
      "+-------+-------+--------------+-----+\n",
      "only showing top 20 rows\n",
      "\n"
     ]
    }
   ],
   "source": [
    "#df2.filter(df2['Category Name'].contains('Prod')).show()\n",
    "# or:\n",
    "#df2.filter(df2['Category Name'].like('%Prod%')).show()\n",
    "#or\n",
    "from pyspark.sql.functions import col\n",
    "df2.filter(col(\"Category Name\").like('%Prod%')).show()"
   ]
  },
  {
   "cell_type": "code",
   "execution_count": 58,
   "id": "4b52775b",
   "metadata": {},
   "outputs": [
    {
     "name": "stdout",
     "output_type": "stream",
     "text": [
      "+--------------+------------+\n",
      "| Category Name|sum(OrderID)|\n",
      "+--------------+------------+\n",
      "|Dairy Products|     5236636|\n",
      "|  Meat/Poultry|     1839680|\n",
      "|    Condiments|     3851954|\n",
      "|     Beverages|     2763695|\n",
      "|Grains/Cereals|     2090139|\n",
      "|       Seafood|     3523066|\n",
      "|   Confections|     2215284|\n",
      "|       Produce|     1450501|\n",
      "+--------------+------------+\n",
      "\n"
     ]
    }
   ],
   "source": [
    "df2.groupby('Category Name').sum().show() #only OrderID culumn has numeric dtype, by default all numeric dtype columns are agg"
   ]
  },
  {
   "cell_type": "code",
   "execution_count": 57,
   "id": "05a34374",
   "metadata": {},
   "outputs": [
    {
     "name": "stdout",
     "output_type": "stream",
     "text": [
      "root\n",
      " |-- OrderID: integer (nullable = true)\n",
      " |-- from: string (nullable = true)\n",
      " |-- Category Name: string (nullable = true)\n",
      " |-- sales: string (nullable = true)\n",
      "\n"
     ]
    }
   ],
   "source": [
    "df2.printSchema()"
   ]
  },
  {
   "cell_type": "code",
   "execution_count": 106,
   "id": "628f7f7d",
   "metadata": {},
   "outputs": [
    {
     "name": "stdout",
     "output_type": "stream",
     "text": [
      "root\n",
      " |-- OrderID: integer (nullable = true)\n",
      " |-- from: string (nullable = true)\n",
      " |-- Category Name: string (nullable = true)\n",
      " |-- sales: float (nullable = true)\n",
      "\n"
     ]
    }
   ],
   "source": [
    "# converting the data type of the sales column from string to float to make agregation:\n",
    "from pyspark.sql.types import FloatType\n",
    "\n",
    "df2=df2.withColumn('sales', df2.sales.cast(FloatType()))\n",
    "df2.printSchema()"
   ]
  },
  {
   "cell_type": "code",
   "execution_count": 107,
   "id": "6d1315db",
   "metadata": {},
   "outputs": [
    {
     "name": "stdout",
     "output_type": "stream",
     "text": [
      "+--------------+------------+----------+\n",
      "| Category Name|sum(OrderID)|sum(sales)|\n",
      "+--------------+------------+----------+\n",
      "|Dairy Products|     5236636|  267590.0|\n",
      "|  Meat/Poultry|     1839680|  100210.0|\n",
      "|    Condiments|     3851954|  155173.0|\n",
      "|     Beverages|     2763695|  170051.0|\n",
      "|Grains/Cereals|     2090139|   84042.0|\n",
      "|       Seafood|     3523066|  104883.0|\n",
      "|   Confections|     2215284|   86398.0|\n",
      "|       Produce|     1450501|   87330.0|\n",
      "+--------------+------------+----------+\n",
      "\n"
     ]
    }
   ],
   "source": [
    "df2.groupby('Category Name').sum().show()"
   ]
  },
  {
   "cell_type": "code",
   "execution_count": 108,
   "id": "982a86f2",
   "metadata": {},
   "outputs": [
    {
     "name": "stdout",
     "output_type": "stream",
     "text": [
      "+--------------+----------+\n",
      "| Category Name|sum(sales)|\n",
      "+--------------+----------+\n",
      "|Dairy Products|  267590.0|\n",
      "|  Meat/Poultry|  100210.0|\n",
      "|    Condiments|  155173.0|\n",
      "|     Beverages|  170051.0|\n",
      "|Grains/Cereals|   84042.0|\n",
      "|       Seafood|  104883.0|\n",
      "|   Confections|   86398.0|\n",
      "|       Produce|   87330.0|\n",
      "+--------------+----------+\n",
      "\n"
     ]
    }
   ],
   "source": [
    "df2.groupby('Category Name').sum('sales').show()"
   ]
  },
  {
   "cell_type": "code",
   "execution_count": 148,
   "id": "469ac7f3",
   "metadata": {},
   "outputs": [],
   "source": [
    "# UDF with defined dtype:\n",
    "from pyspark.sql.types import FloatType\n",
    "from pyspark.sql import udf  \n",
    "from pyspark.sql import functions as F\n",
    "\n",
    "\n",
    "def sqr(s):\n",
    "    return s*s\n",
    "\n",
    "myUDF=F.udf(lambda x: sqr(x), FloatType())"
   ]
  },
  {
   "cell_type": "code",
   "execution_count": 149,
   "id": "a9bf78e0",
   "metadata": {
    "collapsed": true
   },
   "outputs": [
    {
     "ename": "PythonException",
     "evalue": "\n  An exception was thrown from the Python worker. Please see the stack trace below.\nTraceback (most recent call last):\n  File \"C:\\Spark\\spark-3.3.0-bin-hadoop3\\python\\lib\\pyspark.zip\\pyspark\\worker.py\", line 540, in main\nRuntimeError: Python in worker has different version 3.9 than that in driver 3.8, PySpark cannot run with different minor versions. Please check environment variables PYSPARK_PYTHON and PYSPARK_DRIVER_PYTHON are correctly set.\n",
     "output_type": "error",
     "traceback": [
      "\u001b[1;31m---------------------------------------------------------------------------\u001b[0m",
      "\u001b[1;31mPythonException\u001b[0m                           Traceback (most recent call last)",
      "\u001b[1;32m<ipython-input-149-7dd9aeed7b8b>\u001b[0m in \u001b[0;36m<module>\u001b[1;34m\u001b[0m\n\u001b[1;32m----> 1\u001b[1;33m \u001b[0mdf2\u001b[0m\u001b[1;33m.\u001b[0m\u001b[0mselect\u001b[0m\u001b[1;33m(\u001b[0m\u001b[1;34m'from'\u001b[0m\u001b[1;33m,\u001b[0m \u001b[0mmyUDF\u001b[0m\u001b[1;33m(\u001b[0m\u001b[1;34m'sales'\u001b[0m\u001b[1;33m)\u001b[0m\u001b[1;33m)\u001b[0m\u001b[1;33m.\u001b[0m\u001b[0mshow\u001b[0m\u001b[1;33m(\u001b[0m\u001b[1;33m)\u001b[0m\u001b[1;33m\u001b[0m\u001b[1;33m\u001b[0m\u001b[0m\n\u001b[0m",
      "\u001b[1;32m~\\Anaconda3\\lib\\site-packages\\pyspark\\sql\\dataframe.py\u001b[0m in \u001b[0;36mshow\u001b[1;34m(self, n, truncate, vertical)\u001b[0m\n\u001b[0;32m    492\u001b[0m \u001b[1;33m\u001b[0m\u001b[0m\n\u001b[0;32m    493\u001b[0m         \u001b[1;32mif\u001b[0m \u001b[0misinstance\u001b[0m\u001b[1;33m(\u001b[0m\u001b[0mtruncate\u001b[0m\u001b[1;33m,\u001b[0m \u001b[0mbool\u001b[0m\u001b[1;33m)\u001b[0m \u001b[1;32mand\u001b[0m \u001b[0mtruncate\u001b[0m\u001b[1;33m:\u001b[0m\u001b[1;33m\u001b[0m\u001b[1;33m\u001b[0m\u001b[0m\n\u001b[1;32m--> 494\u001b[1;33m             \u001b[0mprint\u001b[0m\u001b[1;33m(\u001b[0m\u001b[0mself\u001b[0m\u001b[1;33m.\u001b[0m\u001b[0m_jdf\u001b[0m\u001b[1;33m.\u001b[0m\u001b[0mshowString\u001b[0m\u001b[1;33m(\u001b[0m\u001b[0mn\u001b[0m\u001b[1;33m,\u001b[0m \u001b[1;36m20\u001b[0m\u001b[1;33m,\u001b[0m \u001b[0mvertical\u001b[0m\u001b[1;33m)\u001b[0m\u001b[1;33m)\u001b[0m\u001b[1;33m\u001b[0m\u001b[1;33m\u001b[0m\u001b[0m\n\u001b[0m\u001b[0;32m    495\u001b[0m         \u001b[1;32melse\u001b[0m\u001b[1;33m:\u001b[0m\u001b[1;33m\u001b[0m\u001b[1;33m\u001b[0m\u001b[0m\n\u001b[0;32m    496\u001b[0m             \u001b[1;32mtry\u001b[0m\u001b[1;33m:\u001b[0m\u001b[1;33m\u001b[0m\u001b[1;33m\u001b[0m\u001b[0m\n",
      "\u001b[1;32m~\\Anaconda3\\lib\\site-packages\\py4j\\java_gateway.py\u001b[0m in \u001b[0;36m__call__\u001b[1;34m(self, *args)\u001b[0m\n\u001b[0;32m   1319\u001b[0m \u001b[1;33m\u001b[0m\u001b[0m\n\u001b[0;32m   1320\u001b[0m         \u001b[0manswer\u001b[0m \u001b[1;33m=\u001b[0m \u001b[0mself\u001b[0m\u001b[1;33m.\u001b[0m\u001b[0mgateway_client\u001b[0m\u001b[1;33m.\u001b[0m\u001b[0msend_command\u001b[0m\u001b[1;33m(\u001b[0m\u001b[0mcommand\u001b[0m\u001b[1;33m)\u001b[0m\u001b[1;33m\u001b[0m\u001b[1;33m\u001b[0m\u001b[0m\n\u001b[1;32m-> 1321\u001b[1;33m         return_value = get_return_value(\n\u001b[0m\u001b[0;32m   1322\u001b[0m             answer, self.gateway_client, self.target_id, self.name)\n\u001b[0;32m   1323\u001b[0m \u001b[1;33m\u001b[0m\u001b[0m\n",
      "\u001b[1;32m~\\Anaconda3\\lib\\site-packages\\pyspark\\sql\\utils.py\u001b[0m in \u001b[0;36mdeco\u001b[1;34m(*a, **kw)\u001b[0m\n\u001b[0;32m    115\u001b[0m                 \u001b[1;31m# Hide where the exception came from that shows a non-Pythonic\u001b[0m\u001b[1;33m\u001b[0m\u001b[1;33m\u001b[0m\u001b[1;33m\u001b[0m\u001b[0m\n\u001b[0;32m    116\u001b[0m                 \u001b[1;31m# JVM exception message.\u001b[0m\u001b[1;33m\u001b[0m\u001b[1;33m\u001b[0m\u001b[1;33m\u001b[0m\u001b[0m\n\u001b[1;32m--> 117\u001b[1;33m                 \u001b[1;32mraise\u001b[0m \u001b[0mconverted\u001b[0m \u001b[1;32mfrom\u001b[0m \u001b[1;32mNone\u001b[0m\u001b[1;33m\u001b[0m\u001b[1;33m\u001b[0m\u001b[0m\n\u001b[0m\u001b[0;32m    118\u001b[0m             \u001b[1;32melse\u001b[0m\u001b[1;33m:\u001b[0m\u001b[1;33m\u001b[0m\u001b[1;33m\u001b[0m\u001b[0m\n\u001b[0;32m    119\u001b[0m                 \u001b[1;32mraise\u001b[0m\u001b[1;33m\u001b[0m\u001b[1;33m\u001b[0m\u001b[0m\n",
      "\u001b[1;31mPythonException\u001b[0m: \n  An exception was thrown from the Python worker. Please see the stack trace below.\nTraceback (most recent call last):\n  File \"C:\\Spark\\spark-3.3.0-bin-hadoop3\\python\\lib\\pyspark.zip\\pyspark\\worker.py\", line 540, in main\nRuntimeError: Python in worker has different version 3.9 than that in driver 3.8, PySpark cannot run with different minor versions. Please check environment variables PYSPARK_PYTHON and PYSPARK_DRIVER_PYTHON are correctly set.\n"
     ]
    }
   ],
   "source": [
    "df2.select('from', myUDF('sales')).show()"
   ]
  },
  {
   "cell_type": "code",
   "execution_count": 123,
   "id": "99435369",
   "metadata": {},
   "outputs": [
    {
     "name": "stdout",
     "output_type": "stream",
     "text": [
      "root\n",
      " |-- OrderID: integer (nullable = true)\n",
      " |-- from: string (nullable = true)\n",
      " |-- Category Name: string (nullable = true)\n",
      " |-- sales: float (nullable = true)\n",
      "\n"
     ]
    }
   ],
   "source": [
    "df2.printSchema()"
   ]
  }
 ],
 "metadata": {
  "kernelspec": {
   "display_name": "Python 3",
   "language": "python",
   "name": "python3"
  },
  "language_info": {
   "codemirror_mode": {
    "name": "ipython",
    "version": 3
   },
   "file_extension": ".py",
   "mimetype": "text/x-python",
   "name": "python",
   "nbconvert_exporter": "python",
   "pygments_lexer": "ipython3",
   "version": "3.8.8"
  }
 },
 "nbformat": 4,
 "nbformat_minor": 5
}
