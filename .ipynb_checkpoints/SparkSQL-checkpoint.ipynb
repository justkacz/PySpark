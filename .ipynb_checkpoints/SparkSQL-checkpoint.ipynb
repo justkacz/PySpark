{
 "cells": [
  {
   "cell_type": "markdown",
   "id": "f816fd68",
   "metadata": {},
   "source": [
    "RDD = Resilient Distributed Datasets\n",
    "\n",
    "it supports in-memory processing computation => it stores the state of memory as an object across the jobs and the object is sharable between those jobs."
   ]
  },
  {
   "cell_type": "code",
   "execution_count": 13,
   "id": "202435c7",
   "metadata": {},
   "outputs": [
    {
     "data": {
      "text/html": [
       "\n",
       "            <div>\n",
       "                <p><b>SparkSession - in-memory</b></p>\n",
       "                \n",
       "        <div>\n",
       "            <p><b>SparkContext</b></p>\n",
       "\n",
       "            <p><a href=\"http://L204LTP.sap-flex.com:4040\">Spark UI</a></p>\n",
       "\n",
       "            <dl>\n",
       "              <dt>Version</dt>\n",
       "                <dd><code>v3.3.0</code></dd>\n",
       "              <dt>Master</dt>\n",
       "                <dd><code>local[*]</code></dd>\n",
       "              <dt>AppName</dt>\n",
       "                <dd><code>pyspark-shell</code></dd>\n",
       "            </dl>\n",
       "        </div>\n",
       "        \n",
       "            </div>\n",
       "        "
      ],
      "text/plain": [
       "<pyspark.sql.session.SparkSession at 0x1b141524af0>"
      ]
     },
     "execution_count": 13,
     "metadata": {},
     "output_type": "execute_result"
    }
   ],
   "source": [
    "from pyspark.sql import SparkSession\n",
    "\n",
    "\n",
    "spark=SparkSession.builder.appName('DCSQL').getOrCreate()\n",
    "spark"
   ]
  },
  {
   "cell_type": "code",
   "execution_count": 12,
   "id": "be6a3511",
   "metadata": {},
   "outputs": [
    {
     "data": {
      "text/plain": [
       "[]"
      ]
     },
     "execution_count": 12,
     "metadata": {},
     "output_type": "execute_result"
    }
   ],
   "source": [
    "spark.catalog.listTables()"
   ]
  },
  {
   "cell_type": "code",
   "execution_count": 17,
   "id": "a1601285",
   "metadata": {},
   "outputs": [
    {
     "name": "stdout",
     "output_type": "stream",
     "text": [
      "+----+-----+---+------+------+\n",
      "|year|month|day|gender|births|\n",
      "+----+-----+---+------+------+\n",
      "|1969|    1|  1|     F|  4046|\n",
      "|1969|    1|  1|     M|  4440|\n",
      "|1969|    1|  2|     F|  4454|\n",
      "|1969|    1|  2|     M|  4548|\n",
      "|1969|    1|  3|     F|  4548|\n",
      "|1969|    1|  3|     M|  4994|\n",
      "|1969|    1|  4|     F|  4440|\n",
      "|1969|    1|  4|     M|  4520|\n",
      "|1969|    1|  5|     F|  4192|\n",
      "|1969|    1|  5|     M|  4198|\n",
      "|1969|    1|  6|     F|  4710|\n",
      "|1969|    1|  6|     M|  4850|\n",
      "|1969|    1|  7|     F|  4646|\n",
      "|1969|    1|  7|     M|  5092|\n",
      "|1969|    1|  8|     F|  4800|\n",
      "|1969|    1|  8|     M|  4934|\n",
      "|1969|    1|  9|     F|  4592|\n",
      "|1969|    1|  9|     M|  4842|\n",
      "|1969|    1| 10|     F|  4852|\n",
      "|1969|    1| 10|     M|  5190|\n",
      "+----+-----+---+------+------+\n",
      "only showing top 20 rows\n",
      "\n"
     ]
    }
   ],
   "source": [
    "from pyspark import SparkFiles\n",
    "\n",
    "\n",
    "url='https://raw.githubusercontent.com/justkacz/csvfiles/main/births.csv'\n",
    "\n",
    "spark.sparkContext.addFile(url)\n",
    "\n",
    "df=spark.read.csv(SparkFiles.get('births.csv'), header=True, inferSchema=True)\n",
    "df.show()"
   ]
  },
  {
   "cell_type": "code",
   "execution_count": 22,
   "id": "ba990136",
   "metadata": {},
   "outputs": [
    {
     "name": "stdout",
     "output_type": "stream",
     "text": [
      "+---------+---------+-----------+\n",
      "|namespace|tableName|isTemporary|\n",
      "+---------+---------+-----------+\n",
      "+---------+---------+-----------+\n",
      "\n"
     ]
    }
   ],
   "source": [
    "spark.catalog.listTables()\n",
    "\n",
    "# or using sql:\n",
    "spark.sql('show tables').show()"
   ]
  },
  {
   "cell_type": "code",
   "execution_count": 30,
   "id": "983ebc13",
   "metadata": {},
   "outputs": [
    {
     "name": "stdout",
     "output_type": "stream",
     "text": [
      "+---------+\n",
      "|namespace|\n",
      "+---------+\n",
      "|  default|\n",
      "+---------+\n",
      "\n"
     ]
    }
   ],
   "source": [
    "spark.catalog.listDatabases()\n",
    "\n",
    "# or using sql:\n",
    "spark.sql('show databases').show()"
   ]
  },
  {
   "cell_type": "code",
   "execution_count": 23,
   "id": "bc719425",
   "metadata": {},
   "outputs": [
    {
     "data": {
      "text/plain": [
       "'default'"
      ]
     },
     "execution_count": 23,
     "metadata": {},
     "output_type": "execute_result"
    }
   ],
   "source": [
    "# current database:\n",
    "\n",
    "spark.catalog.currentDatabase()"
   ]
  },
  {
   "cell_type": "code",
   "execution_count": 31,
   "id": "ac862fa1",
   "metadata": {},
   "outputs": [
    {
     "data": {
      "text/plain": [
       "DataFrame[]"
      ]
     },
     "execution_count": 31,
     "metadata": {},
     "output_type": "execute_result"
    }
   ],
   "source": [
    "# creating new database:\n",
    "spark.sql('create database sparksql')"
   ]
  },
  {
   "cell_type": "code",
   "execution_count": 33,
   "id": "a7911914",
   "metadata": {},
   "outputs": [
    {
     "name": "stdout",
     "output_type": "stream",
     "text": [
      "+---------+\n",
      "|namespace|\n",
      "+---------+\n",
      "|  default|\n",
      "| sparksql|\n",
      "+---------+\n",
      "\n"
     ]
    }
   ],
   "source": [
    "spark.sql('show databases').show()"
   ]
  },
  {
   "cell_type": "code",
   "execution_count": 35,
   "id": "ae7abcf7",
   "metadata": {},
   "outputs": [],
   "source": [
    "#creating temporary table in default database:\n",
    "\n",
    "df.createOrReplaceTempView('dfsql')"
   ]
  },
  {
   "cell_type": "code",
   "execution_count": 36,
   "id": "bca3c2f7",
   "metadata": {},
   "outputs": [
    {
     "name": "stdout",
     "output_type": "stream",
     "text": [
      "+---------+---------+-----------+\n",
      "|namespace|tableName|isTemporary|\n",
      "+---------+---------+-----------+\n",
      "|         |    dfsql|       true|\n",
      "+---------+---------+-----------+\n",
      "\n"
     ]
    }
   ],
   "source": [
    "spark.sql('show tables').show()"
   ]
  },
  {
   "cell_type": "code",
   "execution_count": 37,
   "id": "0f358226",
   "metadata": {},
   "outputs": [
    {
     "name": "stdout",
     "output_type": "stream",
     "text": [
      "+----+-----+---+------+------+\n",
      "|year|month|day|gender|births|\n",
      "+----+-----+---+------+------+\n",
      "|1969|    1|  1|     F|  4046|\n",
      "|1969|    1|  1|     M|  4440|\n",
      "|1969|    1|  2|     F|  4454|\n",
      "|1969|    1|  2|     M|  4548|\n",
      "|1969|    1|  3|     F|  4548|\n",
      "|1969|    1|  3|     M|  4994|\n",
      "|1969|    1|  4|     F|  4440|\n",
      "|1969|    1|  4|     M|  4520|\n",
      "|1969|    1|  5|     F|  4192|\n",
      "|1969|    1|  5|     M|  4198|\n",
      "+----+-----+---+------+------+\n",
      "\n"
     ]
    }
   ],
   "source": [
    "query= \"from dfsql select * limit 10\"\n",
    "\n",
    "df_10=spark.sql(query)\n",
    "df_10.show()"
   ]
  },
  {
   "cell_type": "code",
   "execution_count": 40,
   "id": "e61f54c6",
   "metadata": {},
   "outputs": [
    {
     "data": {
      "text/html": [
       "<div>\n",
       "<style scoped>\n",
       "    .dataframe tbody tr th:only-of-type {\n",
       "        vertical-align: middle;\n",
       "    }\n",
       "\n",
       "    .dataframe tbody tr th {\n",
       "        vertical-align: top;\n",
       "    }\n",
       "\n",
       "    .dataframe thead th {\n",
       "        text-align: right;\n",
       "    }\n",
       "</style>\n",
       "<table border=\"1\" class=\"dataframe\">\n",
       "  <thead>\n",
       "    <tr style=\"text-align: right;\">\n",
       "      <th></th>\n",
       "      <th>year</th>\n",
       "      <th>gender</th>\n",
       "      <th>tot_births</th>\n",
       "    </tr>\n",
       "  </thead>\n",
       "  <tbody>\n",
       "    <tr>\n",
       "      <th>0</th>\n",
       "      <td>1969</td>\n",
       "      <td>F</td>\n",
       "      <td>1753634</td>\n",
       "    </tr>\n",
       "    <tr>\n",
       "      <th>1</th>\n",
       "      <td>1969</td>\n",
       "      <td>M</td>\n",
       "      <td>1846572</td>\n",
       "    </tr>\n",
       "    <tr>\n",
       "      <th>2</th>\n",
       "      <td>1970</td>\n",
       "      <td>M</td>\n",
       "      <td>1918636</td>\n",
       "    </tr>\n",
       "    <tr>\n",
       "      <th>3</th>\n",
       "      <td>1970</td>\n",
       "      <td>F</td>\n",
       "      <td>1819164</td>\n",
       "    </tr>\n",
       "    <tr>\n",
       "      <th>4</th>\n",
       "      <td>1971</td>\n",
       "      <td>F</td>\n",
       "      <td>1736774</td>\n",
       "    </tr>\n",
       "    <tr>\n",
       "      <th>...</th>\n",
       "      <td>...</td>\n",
       "      <td>...</td>\n",
       "      <td>...</td>\n",
       "    </tr>\n",
       "    <tr>\n",
       "      <th>75</th>\n",
       "      <td>2006</td>\n",
       "      <td>M</td>\n",
       "      <td>2188268</td>\n",
       "    </tr>\n",
       "    <tr>\n",
       "      <th>76</th>\n",
       "      <td>2007</td>\n",
       "      <td>F</td>\n",
       "      <td>2111890</td>\n",
       "    </tr>\n",
       "    <tr>\n",
       "      <th>77</th>\n",
       "      <td>2007</td>\n",
       "      <td>M</td>\n",
       "      <td>2212118</td>\n",
       "    </tr>\n",
       "    <tr>\n",
       "      <th>78</th>\n",
       "      <td>2008</td>\n",
       "      <td>M</td>\n",
       "      <td>2177227</td>\n",
       "    </tr>\n",
       "    <tr>\n",
       "      <th>79</th>\n",
       "      <td>2008</td>\n",
       "      <td>F</td>\n",
       "      <td>2077929</td>\n",
       "    </tr>\n",
       "  </tbody>\n",
       "</table>\n",
       "<p>80 rows × 3 columns</p>\n",
       "</div>"
      ],
      "text/plain": [
       "    year gender  tot_births\n",
       "0   1969      F     1753634\n",
       "1   1969      M     1846572\n",
       "2   1970      M     1918636\n",
       "3   1970      F     1819164\n",
       "4   1971      F     1736774\n",
       "..   ...    ...         ...\n",
       "75  2006      M     2188268\n",
       "76  2007      F     2111890\n",
       "77  2007      M     2212118\n",
       "78  2008      M     2177227\n",
       "79  2008      F     2077929\n",
       "\n",
       "[80 rows x 3 columns]"
      ]
     },
     "execution_count": 40,
     "metadata": {},
     "output_type": "execute_result"
    }
   ],
   "source": [
    "# converting aggregated dataset to a pandas DataFrame:\n",
    "query=('from dfsql select year, gender, sum(births) as tot_births group by year, gender order by year')\n",
    "dfs=spark.sql(query)\n",
    "dfspd=dfs.toPandas()\n",
    "dfspd"
   ]
  }
 ],
 "metadata": {
  "kernelspec": {
   "display_name": "Python 3",
   "language": "python",
   "name": "python3"
  },
  "language_info": {
   "codemirror_mode": {
    "name": "ipython",
    "version": 3
   },
   "file_extension": ".py",
   "mimetype": "text/x-python",
   "name": "python",
   "nbconvert_exporter": "python",
   "pygments_lexer": "ipython3",
   "version": "3.8.8"
  }
 },
 "nbformat": 4,
 "nbformat_minor": 5
}
