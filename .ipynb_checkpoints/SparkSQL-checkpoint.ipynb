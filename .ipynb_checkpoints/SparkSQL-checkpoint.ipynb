{
 "cells": [
  {
   "cell_type": "markdown",
   "id": "6ee75606",
   "metadata": {},
   "source": [
    "RDD = Resilient Distributed Datasets\n",
    "\n",
    "it supports in-memory processing computation => it stores the state of memory as an object across the jobs and the object is sharable between those jobs."
   ]
  },
  {
   "cell_type": "code",
   "execution_count": 1,
   "id": "4ab61174",
   "metadata": {},
   "outputs": [
    {
     "data": {
      "text/html": [
       "\n",
       "            <div>\n",
       "                <p><b>SparkSession - in-memory</b></p>\n",
       "                \n",
       "        <div>\n",
       "            <p><b>SparkContext</b></p>\n",
       "\n",
       "            <p><a href=\"http://L204LTP.sap-flex.com:4040\">Spark UI</a></p>\n",
       "\n",
       "            <dl>\n",
       "              <dt>Version</dt>\n",
       "                <dd><code>v3.3.0</code></dd>\n",
       "              <dt>Master</dt>\n",
       "                <dd><code>local[*]</code></dd>\n",
       "              <dt>AppName</dt>\n",
       "                <dd><code>SPSQL</code></dd>\n",
       "            </dl>\n",
       "        </div>\n",
       "        \n",
       "            </div>\n",
       "        "
      ],
      "text/plain": [
       "<pyspark.sql.session.SparkSession at 0x2b2e32c31f0>"
      ]
     },
     "execution_count": 1,
     "metadata": {},
     "output_type": "execute_result"
    }
   ],
   "source": [
    "from pyspark.sql import SparkSession\n",
    "\n",
    "\n",
    "spark=SparkSession.builder.appName('SPSQL').getOrCreate()\n",
    "spark"
   ]
  },
  {
   "cell_type": "code",
   "execution_count": 2,
   "id": "8c8f32b7",
   "metadata": {},
   "outputs": [
    {
     "data": {
      "text/plain": [
       "[]"
      ]
     },
     "execution_count": 2,
     "metadata": {},
     "output_type": "execute_result"
    }
   ],
   "source": [
    "spark.catalog.listTables()"
   ]
  },
  {
   "cell_type": "code",
   "execution_count": 3,
   "id": "9c943675",
   "metadata": {},
   "outputs": [
    {
     "name": "stdout",
     "output_type": "stream",
     "text": [
      "+----+-----+---+------+------+\n",
      "|year|month|day|gender|births|\n",
      "+----+-----+---+------+------+\n",
      "|1969|    1|  1|     F|  4046|\n",
      "|1969|    1|  1|     M|  4440|\n",
      "|1969|    1|  2|     F|  4454|\n",
      "|1969|    1|  2|     M|  4548|\n",
      "|1969|    1|  3|     F|  4548|\n",
      "+----+-----+---+------+------+\n",
      "only showing top 5 rows\n",
      "\n"
     ]
    }
   ],
   "source": [
    "from pyspark import SparkFiles\n",
    "\n",
    "\n",
    "url='https://raw.githubusercontent.com/justkacz/csvfiles/main/births.csv'\n",
    "\n",
    "spark.sparkContext.addFile(url)\n",
    "\n",
    "df=spark.read.csv(SparkFiles.get('births.csv'), header=True, inferSchema=True)\n",
    "df.show(5)"
   ]
  },
  {
   "cell_type": "code",
   "execution_count": 4,
   "id": "6c3c9e63",
   "metadata": {},
   "outputs": [
    {
     "name": "stdout",
     "output_type": "stream",
     "text": [
      "+---------+---------+-----------+\n",
      "|namespace|tableName|isTemporary|\n",
      "+---------+---------+-----------+\n",
      "+---------+---------+-----------+\n",
      "\n"
     ]
    }
   ],
   "source": [
    "spark.catalog.listTables()\n",
    "\n",
    "# or using sql:\n",
    "spark.sql('show tables').show()"
   ]
  },
  {
   "cell_type": "code",
   "execution_count": 5,
   "id": "7d900dd2",
   "metadata": {},
   "outputs": [
    {
     "name": "stdout",
     "output_type": "stream",
     "text": [
      "+---------+\n",
      "|namespace|\n",
      "+---------+\n",
      "|  default|\n",
      "+---------+\n",
      "\n"
     ]
    }
   ],
   "source": [
    "spark.catalog.listDatabases()\n",
    "\n",
    "# or using sql:\n",
    "spark.sql('show databases').show()"
   ]
  },
  {
   "cell_type": "code",
   "execution_count": 6,
   "id": "bea36175",
   "metadata": {},
   "outputs": [
    {
     "data": {
      "text/plain": [
       "'default'"
      ]
     },
     "execution_count": 6,
     "metadata": {},
     "output_type": "execute_result"
    }
   ],
   "source": [
    "# current database:\n",
    "\n",
    "spark.catalog.currentDatabase()"
   ]
  },
  {
   "cell_type": "code",
   "execution_count": 7,
   "id": "b5229d0b",
   "metadata": {},
   "outputs": [
    {
     "data": {
      "text/plain": [
       "DataFrame[]"
      ]
     },
     "execution_count": 7,
     "metadata": {},
     "output_type": "execute_result"
    }
   ],
   "source": [
    "# creating a new database:\n",
    "spark.sql('create database sparksql')"
   ]
  },
  {
   "cell_type": "code",
   "execution_count": 8,
   "id": "ae90ad8d",
   "metadata": {},
   "outputs": [
    {
     "name": "stdout",
     "output_type": "stream",
     "text": [
      "+---------+\n",
      "|namespace|\n",
      "+---------+\n",
      "|  default|\n",
      "| sparksql|\n",
      "+---------+\n",
      "\n"
     ]
    }
   ],
   "source": [
    "spark.sql('show databases').show()"
   ]
  },
  {
   "cell_type": "code",
   "execution_count": 9,
   "id": "c9486936",
   "metadata": {},
   "outputs": [],
   "source": [
    "#creating temporary table in a default database:\n",
    "\n",
    "df.createOrReplaceTempView('dfsql')"
   ]
  },
  {
   "cell_type": "code",
   "execution_count": 10,
   "id": "6f1d4baa",
   "metadata": {},
   "outputs": [
    {
     "name": "stdout",
     "output_type": "stream",
     "text": [
      "+---------+---------+-----------+\n",
      "|namespace|tableName|isTemporary|\n",
      "+---------+---------+-----------+\n",
      "|         |    dfsql|       true|\n",
      "+---------+---------+-----------+\n",
      "\n"
     ]
    }
   ],
   "source": [
    "spark.sql('show tables').show()"
   ]
  },
  {
   "cell_type": "code",
   "execution_count": 11,
   "id": "a9cda9e6",
   "metadata": {},
   "outputs": [
    {
     "name": "stdout",
     "output_type": "stream",
     "text": [
      "+----+-----+---+------+------+\n",
      "|year|month|day|gender|births|\n",
      "+----+-----+---+------+------+\n",
      "|1969|    1|  1|     F|  4046|\n",
      "|1969|    1|  1|     M|  4440|\n",
      "|1969|    1|  2|     F|  4454|\n",
      "|1969|    1|  2|     M|  4548|\n",
      "|1969|    1|  3|     F|  4548|\n",
      "+----+-----+---+------+------+\n",
      "only showing top 5 rows\n",
      "\n"
     ]
    }
   ],
   "source": [
    "query= \"from dfsql select * limit 10\"\n",
    "\n",
    "df_10=spark.sql(query)\n",
    "df_10.show(5)"
   ]
  },
  {
   "cell_type": "code",
   "execution_count": 12,
   "id": "d9f93f36",
   "metadata": {},
   "outputs": [
    {
     "data": {
      "text/html": [
       "<div>\n",
       "<style scoped>\n",
       "    .dataframe tbody tr th:only-of-type {\n",
       "        vertical-align: middle;\n",
       "    }\n",
       "\n",
       "    .dataframe tbody tr th {\n",
       "        vertical-align: top;\n",
       "    }\n",
       "\n",
       "    .dataframe thead th {\n",
       "        text-align: right;\n",
       "    }\n",
       "</style>\n",
       "<table border=\"1\" class=\"dataframe\">\n",
       "  <thead>\n",
       "    <tr style=\"text-align: right;\">\n",
       "      <th></th>\n",
       "      <th>year</th>\n",
       "      <th>gender</th>\n",
       "      <th>tot_births</th>\n",
       "    </tr>\n",
       "  </thead>\n",
       "  <tbody>\n",
       "    <tr>\n",
       "      <th>0</th>\n",
       "      <td>1969</td>\n",
       "      <td>F</td>\n",
       "      <td>1753634</td>\n",
       "    </tr>\n",
       "    <tr>\n",
       "      <th>1</th>\n",
       "      <td>1969</td>\n",
       "      <td>M</td>\n",
       "      <td>1846572</td>\n",
       "    </tr>\n",
       "    <tr>\n",
       "      <th>2</th>\n",
       "      <td>1970</td>\n",
       "      <td>M</td>\n",
       "      <td>1918636</td>\n",
       "    </tr>\n",
       "    <tr>\n",
       "      <th>3</th>\n",
       "      <td>1970</td>\n",
       "      <td>F</td>\n",
       "      <td>1819164</td>\n",
       "    </tr>\n",
       "    <tr>\n",
       "      <th>4</th>\n",
       "      <td>1971</td>\n",
       "      <td>F</td>\n",
       "      <td>1736774</td>\n",
       "    </tr>\n",
       "    <tr>\n",
       "      <th>...</th>\n",
       "      <td>...</td>\n",
       "      <td>...</td>\n",
       "      <td>...</td>\n",
       "    </tr>\n",
       "    <tr>\n",
       "      <th>75</th>\n",
       "      <td>2006</td>\n",
       "      <td>M</td>\n",
       "      <td>2188268</td>\n",
       "    </tr>\n",
       "    <tr>\n",
       "      <th>76</th>\n",
       "      <td>2007</td>\n",
       "      <td>F</td>\n",
       "      <td>2111890</td>\n",
       "    </tr>\n",
       "    <tr>\n",
       "      <th>77</th>\n",
       "      <td>2007</td>\n",
       "      <td>M</td>\n",
       "      <td>2212118</td>\n",
       "    </tr>\n",
       "    <tr>\n",
       "      <th>78</th>\n",
       "      <td>2008</td>\n",
       "      <td>M</td>\n",
       "      <td>2177227</td>\n",
       "    </tr>\n",
       "    <tr>\n",
       "      <th>79</th>\n",
       "      <td>2008</td>\n",
       "      <td>F</td>\n",
       "      <td>2077929</td>\n",
       "    </tr>\n",
       "  </tbody>\n",
       "</table>\n",
       "<p>80 rows × 3 columns</p>\n",
       "</div>"
      ],
      "text/plain": [
       "    year gender  tot_births\n",
       "0   1969      F     1753634\n",
       "1   1969      M     1846572\n",
       "2   1970      M     1918636\n",
       "3   1970      F     1819164\n",
       "4   1971      F     1736774\n",
       "..   ...    ...         ...\n",
       "75  2006      M     2188268\n",
       "76  2007      F     2111890\n",
       "77  2007      M     2212118\n",
       "78  2008      M     2177227\n",
       "79  2008      F     2077929\n",
       "\n",
       "[80 rows x 3 columns]"
      ]
     },
     "execution_count": 12,
     "metadata": {},
     "output_type": "execute_result"
    }
   ],
   "source": [
    "# converting spark DataFrame to a pandas DataFrame:\n",
    "query=('from dfsql select year, gender, sum(births) as tot_births group by year, gender order by year')\n",
    "dfs=spark.sql(query)\n",
    "dfspd=dfs.toPandas()\n",
    "dfspd  # pandas df cannot be used with sql methods -> its not included in the table/view catalog \n",
    "# (first must be converted = .createOrReplaceTempView())"
   ]
  },
  {
   "cell_type": "code",
   "execution_count": 13,
   "id": "59ebea8a",
   "metadata": {},
   "outputs": [
    {
     "data": {
      "text/html": [
       "<div>\n",
       "<style scoped>\n",
       "    .dataframe tbody tr th:only-of-type {\n",
       "        vertical-align: middle;\n",
       "    }\n",
       "\n",
       "    .dataframe tbody tr th {\n",
       "        vertical-align: top;\n",
       "    }\n",
       "\n",
       "    .dataframe thead th {\n",
       "        text-align: right;\n",
       "    }\n",
       "</style>\n",
       "<table border=\"1\" class=\"dataframe\">\n",
       "  <thead>\n",
       "    <tr style=\"text-align: right;\">\n",
       "      <th></th>\n",
       "      <th>a</th>\n",
       "      <th>b</th>\n",
       "      <th>c</th>\n",
       "    </tr>\n",
       "  </thead>\n",
       "  <tbody>\n",
       "    <tr>\n",
       "      <th>0</th>\n",
       "      <td>1.764052</td>\n",
       "      <td>0.400157</td>\n",
       "      <td>0.978738</td>\n",
       "    </tr>\n",
       "    <tr>\n",
       "      <th>1</th>\n",
       "      <td>2.240893</td>\n",
       "      <td>1.867558</td>\n",
       "      <td>-0.977278</td>\n",
       "    </tr>\n",
       "    <tr>\n",
       "      <th>2</th>\n",
       "      <td>0.950088</td>\n",
       "      <td>-0.151357</td>\n",
       "      <td>-0.103219</td>\n",
       "    </tr>\n",
       "    <tr>\n",
       "      <th>3</th>\n",
       "      <td>0.410599</td>\n",
       "      <td>0.144044</td>\n",
       "      <td>1.454274</td>\n",
       "    </tr>\n",
       "  </tbody>\n",
       "</table>\n",
       "</div>"
      ],
      "text/plain": [
       "          a         b         c\n",
       "0  1.764052  0.400157  0.978738\n",
       "1  2.240893  1.867558 -0.977278\n",
       "2  0.950088 -0.151357 -0.103219\n",
       "3  0.410599  0.144044  1.454274"
      ]
     },
     "execution_count": 13,
     "metadata": {},
     "output_type": "execute_result"
    }
   ],
   "source": [
    "import pandas as pd\n",
    "import numpy as np\n",
    "\n",
    "rng=np.random.RandomState(0)\n",
    "\n",
    "# converting pandas DF to spark DF, spark DF is stored LOCALLY not in the SparkSession catalog -> data cannot be accessed in \n",
    "# other context\n",
    "\n",
    "#pandas DF:\n",
    "pddf=pd.DataFrame(rng.randn(12).reshape(4,3), columns=['a', 'b', 'c'])\n",
    "pddf"
   ]
  },
  {
   "cell_type": "code",
   "execution_count": 14,
   "id": "244b9e0f",
   "metadata": {},
   "outputs": [],
   "source": [
    "#converting pandas DF to spark DF\n",
    "sdf=spark.createDataFrame(pddf)\n",
    "\n",
    "#adding spark DF to the catalog\n",
    "sdf.createOrReplaceTempView('sdf')"
   ]
  },
  {
   "cell_type": "code",
   "execution_count": 15,
   "id": "eaea5a38",
   "metadata": {},
   "outputs": [
    {
     "data": {
      "text/plain": [
       "[Table(name='dfsql', database=None, description=None, tableType='TEMPORARY', isTemporary=True),\n",
       " Table(name='sdf', database=None, description=None, tableType='TEMPORARY', isTemporary=True)]"
      ]
     },
     "execution_count": 15,
     "metadata": {},
     "output_type": "execute_result"
    }
   ],
   "source": [
    "spark.catalog.listTables()"
   ]
  },
  {
   "cell_type": "code",
   "execution_count": 16,
   "id": "d9844367",
   "metadata": {},
   "outputs": [
    {
     "name": "stdout",
     "output_type": "stream",
     "text": [
      "+------+\n",
      "|gender|\n",
      "+------+\n",
      "|     F|\n",
      "|     M|\n",
      "|     F|\n",
      "|     M|\n",
      "|     F|\n",
      "+------+\n",
      "only showing top 5 rows\n",
      "\n"
     ]
    }
   ],
   "source": [
    "df.select('gender').show(5)"
   ]
  },
  {
   "cell_type": "code",
   "execution_count": 17,
   "id": "96286ea4",
   "metadata": {},
   "outputs": [
    {
     "name": "stdout",
     "output_type": "stream",
     "text": [
      "+----+-----+---+------+------+\n",
      "|year|month|day|gender|births|\n",
      "+----+-----+---+------+------+\n",
      "|1969|    1|  1|     F|  4046|\n",
      "|1969|    1|  2|     F|  4454|\n",
      "|1969|    1|  3|     F|  4548|\n",
      "|1969|    1|  4|     F|  4440|\n",
      "|1969|    1|  5|     F|  4192|\n",
      "+----+-----+---+------+------+\n",
      "only showing top 5 rows\n",
      "\n"
     ]
    }
   ],
   "source": [
    "# pyspark DF -> filter\n",
    "df.filter(df['gender']=='F').show(5)"
   ]
  },
  {
   "cell_type": "code",
   "execution_count": 18,
   "id": "dc3f7c08",
   "metadata": {},
   "outputs": [
    {
     "name": "stdout",
     "output_type": "stream",
     "text": [
      "+----+-----+---+------+------+\n",
      "|year|month|day|gender|births|\n",
      "+----+-----+---+------+------+\n",
      "|1969|    1|  1|     F|  4046|\n",
      "|1969|    1|  2|     F|  4454|\n",
      "|1969|    1|  3|     F|  4548|\n",
      "|1969|    1|  4|     F|  4440|\n",
      "|1969|    1|  5|     F|  4192|\n",
      "+----+-----+---+------+------+\n",
      "\n"
     ]
    }
   ],
   "source": [
    "# or using sql query:\n",
    "spark.sql('from dfsql select * where gender = \"F\" limit 5').show()"
   ]
  },
  {
   "cell_type": "code",
   "execution_count": 19,
   "id": "9fa8150e",
   "metadata": {},
   "outputs": [
    {
     "name": "stdout",
     "output_type": "stream",
     "text": [
      "+-------+------+--------------+-----+\n",
      "|OrderID|  from| Category Name|sales|\n",
      "+-------+------+--------------+-----+\n",
      "|  10248|France|Dairy Products|  168|\n",
      "|  10248|France|Grains/Cereals|   98|\n",
      "|  10248|France|Dairy Products|  174|\n",
      "|  10249|France|       Produce|167,4|\n",
      "|  10249|France|       Produce| 1696|\n",
      "+-------+------+--------------+-----+\n",
      "only showing top 5 rows\n",
      "\n"
     ]
    }
   ],
   "source": [
    "url2='https://raw.githubusercontent.com/justkacz/csvfiles/main/Dane%20NW2.csv'\n",
    "\n",
    "spark.sparkContext.addFile(url2)\n",
    "\n",
    "df2=spark.read.option(\"delimiter\", \";\").csv(SparkFiles.get('Dane NW2.csv'), inferSchema=True, header=True)\n",
    "df2.show(5)"
   ]
  },
  {
   "cell_type": "code",
   "execution_count": 20,
   "id": "3c6cf3da",
   "metadata": {},
   "outputs": [
    {
     "name": "stdout",
     "output_type": "stream",
     "text": [
      "+-------+-------+--------------+-----+\n",
      "|OrderID|   from| Category Name|sales|\n",
      "+-------+-------+--------------+-----+\n",
      "|  10248| France|Dairy Products|  168|\n",
      "|  10248| France|Dairy Products|  174|\n",
      "|  10249| France|       Produce|167,4|\n",
      "|  10249| France|       Produce| 1696|\n",
      "|  10250|Belarus|       Produce| 1484|\n",
      "+-------+-------+--------------+-----+\n",
      "only showing top 5 rows\n",
      "\n"
     ]
    }
   ],
   "source": [
    "#df2.filter(df2['Category Name'].contains('Prod')).show()\n",
    "# or:\n",
    "#df2.filter(df2['Category Name'].like('%Prod%')).show()\n",
    "#or\n",
    "from pyspark.sql.functions import col\n",
    "df2.filter(col(\"Category Name\").like('%Prod%')).show(5)"
   ]
  },
  {
   "cell_type": "code",
   "execution_count": 21,
   "id": "81310330",
   "metadata": {},
   "outputs": [
    {
     "name": "stdout",
     "output_type": "stream",
     "text": [
      "+--------------+\n",
      "| Category Name|\n",
      "+--------------+\n",
      "|Dairy Products|\n",
      "|Grains/Cereals|\n",
      "|Dairy Products|\n",
      "|       Produce|\n",
      "|       Produce|\n",
      "+--------------+\n",
      "only showing top 5 rows\n",
      "\n"
     ]
    }
   ],
   "source": [
    "# or filtering only column names with specific pattern by using regex function:\n",
    "\n",
    "df2.select(df2.colRegex(\"`(Categ)+?.+`\")).show(5)"
   ]
  },
  {
   "cell_type": "code",
   "execution_count": 22,
   "id": "a4f2f180",
   "metadata": {},
   "outputs": [
    {
     "name": "stdout",
     "output_type": "stream",
     "text": [
      "+--------------+\n",
      "| Category Name|\n",
      "+--------------+\n",
      "|Dairy Products|\n",
      "|Grains/Cereals|\n",
      "|Dairy Products|\n",
      "+--------------+\n",
      "only showing top 3 rows\n",
      "\n"
     ]
    }
   ],
   "source": [
    "#df2.select(df2.colRegex(\"`^.*ateg*`\")).show()\n",
    "df2.select(df2.colRegex(\"`(Categ)+?.+`\")).show(3)"
   ]
  },
  {
   "cell_type": "code",
   "execution_count": 23,
   "id": "d28705d2",
   "metadata": {},
   "outputs": [
    {
     "name": "stdout",
     "output_type": "stream",
     "text": [
      "+------+--------------+\n",
      "|  from| Category Name|\n",
      "+------+--------------+\n",
      "|France|Dairy Products|\n",
      "|France|Grains/Cereals|\n",
      "|France|Dairy Products|\n",
      "|France|       Produce|\n",
      "|France|       Produce|\n",
      "+------+--------------+\n",
      "only showing top 5 rows\n",
      "\n"
     ]
    }
   ],
   "source": [
    "#selecting particular columns (second and third) by index:\n",
    "\n",
    "df2.select(df2.columns[1:3]).show(5)"
   ]
  },
  {
   "cell_type": "code",
   "execution_count": 24,
   "id": "4b52775b",
   "metadata": {},
   "outputs": [
    {
     "name": "stdout",
     "output_type": "stream",
     "text": [
      "+--------------+------------+\n",
      "| Category Name|sum(OrderID)|\n",
      "+--------------+------------+\n",
      "|Dairy Products|     5236636|\n",
      "|  Meat/Poultry|     1839680|\n",
      "|    Condiments|     3851954|\n",
      "|     Beverages|     2763695|\n",
      "|Grains/Cereals|     2090139|\n",
      "|       Seafood|     3523066|\n",
      "|   Confections|     2215284|\n",
      "|       Produce|     1450501|\n",
      "+--------------+------------+\n",
      "\n"
     ]
    }
   ],
   "source": [
    "df2.groupby('Category Name').sum().show() #only OrderID culumn has numeric dtype, by default all numeric dtype columns are agg"
   ]
  },
  {
   "cell_type": "code",
   "execution_count": 25,
   "id": "05a34374",
   "metadata": {},
   "outputs": [
    {
     "name": "stdout",
     "output_type": "stream",
     "text": [
      "root\n",
      " |-- OrderID: integer (nullable = true)\n",
      " |-- from: string (nullable = true)\n",
      " |-- Category Name: string (nullable = true)\n",
      " |-- sales: string (nullable = true)\n",
      "\n"
     ]
    }
   ],
   "source": [
    "df2.printSchema()"
   ]
  },
  {
   "cell_type": "code",
   "execution_count": 26,
   "id": "628f7f7d",
   "metadata": {},
   "outputs": [
    {
     "name": "stdout",
     "output_type": "stream",
     "text": [
      "root\n",
      " |-- OrderID: integer (nullable = true)\n",
      " |-- from: string (nullable = true)\n",
      " |-- Category Name: string (nullable = true)\n",
      " |-- sales: float (nullable = true)\n",
      "\n"
     ]
    }
   ],
   "source": [
    "# converting the data type of the sales column from string to float to make agregation:\n",
    "from pyspark.sql.types import FloatType\n",
    "\n",
    "df2=df2.withColumn('sales', df2.sales.cast(FloatType()))\n",
    "df2.printSchema()"
   ]
  },
  {
   "cell_type": "code",
   "execution_count": 27,
   "id": "6d1315db",
   "metadata": {},
   "outputs": [
    {
     "name": "stdout",
     "output_type": "stream",
     "text": [
      "+--------------+------------+----------+\n",
      "| Category Name|sum(OrderID)|sum(sales)|\n",
      "+--------------+------------+----------+\n",
      "|Dairy Products|     5236636|  267590.0|\n",
      "|  Meat/Poultry|     1839680|  100210.0|\n",
      "|    Condiments|     3851954|  155173.0|\n",
      "|     Beverages|     2763695|  170051.0|\n",
      "|Grains/Cereals|     2090139|   84042.0|\n",
      "+--------------+------------+----------+\n",
      "only showing top 5 rows\n",
      "\n"
     ]
    }
   ],
   "source": [
    "df2.groupby('Category Name').sum().show(5)"
   ]
  },
  {
   "cell_type": "code",
   "execution_count": 28,
   "id": "982a86f2",
   "metadata": {},
   "outputs": [
    {
     "name": "stdout",
     "output_type": "stream",
     "text": [
      "+--------------+----------+\n",
      "| Category Name|sum(sales)|\n",
      "+--------------+----------+\n",
      "|Dairy Products|  267590.0|\n",
      "|  Meat/Poultry|  100210.0|\n",
      "|    Condiments|  155173.0|\n",
      "|     Beverages|  170051.0|\n",
      "|Grains/Cereals|   84042.0|\n",
      "+--------------+----------+\n",
      "only showing top 5 rows\n",
      "\n"
     ]
    }
   ],
   "source": [
    "df2.groupby('Category Name').sum('sales').show(5)"
   ]
  },
  {
   "cell_type": "markdown",
   "id": "2c40fc64",
   "metadata": {},
   "source": [
    "UDF -> PYTHON IN WORKER AND PYTHON IN DRIVER MUST HAVE THE SAME VERSION (in case of PySpark 3.. Python version = 3.8 or lower)\n",
    "\n",
    "we have to install the same version of Python as this one in the Spark driver -> then environmnent variables should be added:\n",
    "\n",
    "PYSPARK_PYTHON -> with exact path to the python.exe file with appropriate version (corresponding to driver)\n",
    "\n",
    "PYSPARK_DRIVER_PYTHON -> the same as pyspark_python\n",
    "\n",
    "Linux -> bashrc file modification"
   ]
  },
  {
   "cell_type": "code",
   "execution_count": 40,
   "id": "469ac7f3",
   "metadata": {},
   "outputs": [
    {
     "data": {
      "text/plain": [
       "<function __main__.<lambda>(x)>"
      ]
     },
     "execution_count": 40,
     "metadata": {},
     "output_type": "execute_result"
    }
   ],
   "source": [
    "# UDF with defined dtype:\n",
    "from pyspark.sql.types import FloatType\n",
    "from pyspark.sql import udf  \n",
    "from pyspark.sql.functions import udf\n",
    "import numpy as np\n",
    "\n",
    "\n",
    "def sqr(s):\n",
    "    if s is not None:\n",
    "        return float(s)*float(s)\n",
    "    else:\n",
    "        return 0\n",
    "\n",
    "myUDF=udf(lambda x: sqr(x), FloatType())\n",
    "\n",
    "# function might be used without registration but will not be visible in spark.catalog.listFunctions()\n",
    "spark.udf.register('myUDF', myUDF) "
   ]
  },
  {
   "cell_type": "code",
   "execution_count": 41,
   "id": "a9bf78e0",
   "metadata": {},
   "outputs": [
    {
     "name": "stdout",
     "output_type": "stream",
     "text": [
      "+------+---------------+\n",
      "|  from|<lambda>(sales)|\n",
      "+------+---------------+\n",
      "|France|        28224.0|\n",
      "|France|         9604.0|\n",
      "|France|        30276.0|\n",
      "|France|           null|\n",
      "|France|      2876416.0|\n",
      "+------+---------------+\n",
      "only showing top 5 rows\n",
      "\n"
     ]
    }
   ],
   "source": [
    "df2.select('from', myUDF('sales')).show(5)"
   ]
  },
  {
   "cell_type": "code",
   "execution_count": 77,
   "id": "f03d248a",
   "metadata": {},
   "outputs": [
    {
     "name": "stdout",
     "output_type": "stream",
     "text": [
      "Function:  myUDF2  is not registerd yet.\n"
     ]
    }
   ],
   "source": [
    "# checking registered UDFs:\n",
    "# spark.catalog.listFunctions()\n",
    "\n",
    "def udf_checker(udfname):\n",
    "    for fn in spark.catalog.listFunctions():\n",
    "        if fn.name == udfname:\n",
    "            print('Function: ', udfname, ' is already registerd.')\n",
    "            break\n",
    "    else:\n",
    "        print('Function: ', udfname, ' is not registerd yet.')\n",
    "\n",
    "\n",
    "def udf_checker2(udfname):\n",
    "    if udfname in [fn.name for fn in spark.catalog.listFunctions()]:\n",
    "        print('Function: ', udfname, ' is already registerd.')\n",
    "    else:\n",
    "        print('Function: ', udfname, ' is not registerd yet.')\n",
    "        \n",
    "            \n",
    "            \n",
    "udf_checker2('myUDF')"
   ]
  },
  {
   "cell_type": "code",
   "execution_count": 75,
   "id": "781a7d19",
   "metadata": {},
   "outputs": [],
   "source": [
    "def cube(c):\n",
    "    if c is not None:\n",
    "        return float(c)*float(c)*float(c)\n",
    "    else:\n",
    "        return 0\n",
    "\n",
    "# function has not been registered:    \n",
    "myUDF2=udf(lambda x: cube(x), FloatType())"
   ]
  },
  {
   "cell_type": "code",
   "execution_count": 76,
   "id": "f4b61c2e",
   "metadata": {},
   "outputs": [
    {
     "name": "stdout",
     "output_type": "stream",
     "text": [
      "+------+---------------+\n",
      "|  from|<lambda>(sales)|\n",
      "+------+---------------+\n",
      "|France|      4741632.0|\n",
      "|France|       941192.0|\n",
      "|France|      5268024.0|\n",
      "|France|           null|\n",
      "|France|    4.8784015E9|\n",
      "+------+---------------+\n",
      "only showing top 5 rows\n",
      "\n"
     ]
    }
   ],
   "source": [
    "df2.select('from', myUDF2('sales')).show(5)"
   ]
  },
  {
   "cell_type": "code",
   "execution_count": 78,
   "id": "75cfcfa4",
   "metadata": {},
   "outputs": [
    {
     "name": "stdout",
     "output_type": "stream",
     "text": [
      "Function:  myUDF2  is not registerd yet.\n"
     ]
    }
   ],
   "source": [
    "# and is not visible in the spark catalog:\n",
    "udf_checker('myUDF2')"
   ]
  },
  {
   "cell_type": "code",
   "execution_count": null,
   "id": "890ad746",
   "metadata": {},
   "outputs": [],
   "source": [
    "# removing NULL values or adding if else into UDF to avoid None val - error when calling UDF on column with null values:\n",
    "# df2 =df2.filter('sales is not NULL')\n",
    "# df2.filter('sales is NULL').show()"
   ]
  },
  {
   "cell_type": "code",
   "execution_count": null,
   "id": "99435369",
   "metadata": {},
   "outputs": [],
   "source": []
  },
  {
   "cell_type": "code",
   "execution_count": null,
   "id": "1cff033e",
   "metadata": {},
   "outputs": [],
   "source": [
    "spark.sql('from dfsql select * limit 5').show()"
   ]
  }
 ],
 "metadata": {
  "kernelspec": {
   "display_name": "Python 3",
   "language": "python",
   "name": "python3"
  },
  "language_info": {
   "codemirror_mode": {
    "name": "ipython",
    "version": 3
   },
   "file_extension": ".py",
   "mimetype": "text/x-python",
   "name": "python",
   "nbconvert_exporter": "python",
   "pygments_lexer": "ipython3",
   "version": "3.8.8"
  }
 },
 "nbformat": 4,
 "nbformat_minor": 5
}
