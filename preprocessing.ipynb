{
 "cells": [
  {
   "cell_type": "code",
   "execution_count": 1,
   "id": "4008edb8",
   "metadata": {},
   "outputs": [],
   "source": [
    "import pandas as pd"
   ]
  },
  {
   "cell_type": "code",
   "execution_count": 2,
   "id": "62464da3",
   "metadata": {},
   "outputs": [
    {
     "data": {
      "text/html": [
       "\n",
       "            <div>\n",
       "                <p><b>SparkSession - in-memory</b></p>\n",
       "                \n",
       "        <div>\n",
       "            <p><b>SparkContext</b></p>\n",
       "\n",
       "            <p><a href=\"http://L204LTP.sap-flex.com:4041\">Spark UI</a></p>\n",
       "\n",
       "            <dl>\n",
       "              <dt>Version</dt>\n",
       "                <dd><code>v3.3.0</code></dd>\n",
       "              <dt>Master</dt>\n",
       "                <dd><code>local[*]</code></dd>\n",
       "              <dt>AppName</dt>\n",
       "                <dd><code>Training</code></dd>\n",
       "            </dl>\n",
       "        </div>\n",
       "        \n",
       "            </div>\n",
       "        "
      ],
      "text/plain": [
       "<pyspark.sql.session.SparkSession at 0x1b196ca1a00>"
      ]
     },
     "execution_count": 2,
     "metadata": {},
     "output_type": "execute_result"
    }
   ],
   "source": [
    "import pyspark\n",
    "from pyspark.sql import SparkSession\n",
    "\n",
    "spark=SparkSession.builder.appName('Training').getOrCreate()\n",
    "spark"
   ]
  },
  {
   "cell_type": "code",
   "execution_count": 3,
   "id": "972e3282",
   "metadata": {},
   "outputs": [
    {
     "name": "stdout",
     "output_type": "stream",
     "text": [
      "+---+--------------------+------------+--------+----+---------+----------+---------+-------+------+----+----+-----+-----+-----+--------------------+--------------------+\n",
      "| Id|                name|         key|place_id|code|alt_names|country_id|region_id|city_id|   pop|popm|area|    m|    c|    d|          created_at|          updated_at|\n",
      "+---+--------------------+------------+--------+----+---------+----------+---------+-------+------+----+----+-----+-----+-----+--------------------+--------------------+\n",
      "|  1|           Bujumbura|   bujumbura|      12|null|     null|         1|     null|   null|  null|null|null|False|False|False|2014-10-17T00:53:...|2014-10-17T00:53:...|\n",
      "|  2|              Moroni|      moroni|      14|null|     null|         2|     null|   null|  null|null|null|False|False|False|2014-10-17T00:53:...|2014-10-17T00:53:...|\n",
      "|  3|            Djibouti|    djibouti|      16|null|     null|         3|     null|   null|  null|null|null|False|False|False|2014-10-17T00:53:...|2014-10-17T00:53:...|\n",
      "|  4|              Asmara|      asmara|      18|null|     null|         4|     null|   null|  null|null|null|False|False|False|2014-10-17T00:53:...|2014-10-17T00:53:...|\n",
      "|  5|             Nairobi|     nairobi|      21|null|     null|         6|     null|   null|  null|   4|null|False|False|False|2014-10-17T00:53:...|2014-10-17T00:53:...|\n",
      "|  6|Antananarivo [Tan...|antananarivo|      23|null|     null|         7|     null|   null|  null|   2|null|False|False|False|2014-10-17T00:53:...|2014-10-17T00:53:...|\n",
      "|  7|            Lilongwe|    lilongwe|      25|null|     null|         8|     null|   null|  null|null|null|False|False|False|2014-10-17T00:53:...|2014-10-17T00:53:...|\n",
      "|  8|              Maputo|      maputo|      28|null|     null|        10|     null|   null|  null|   2|null|False|False|False|2014-10-17T00:53:...|2014-10-17T00:53:...|\n",
      "|  9|              Kigali|      kigali|      30|null|     null|        11|     null|   null|  null|   1|null|False|False|False|2014-10-17T00:53:...|2014-10-17T00:53:...|\n",
      "| 10|            Victoria|    victoria|      32|null|     null|       169|      259|   null|304000|null|null|False|False|False|2014-10-17T00:53:...|2014-10-17T00:53:...|\n",
      "| 11|           Mogadishu|   mogadishu|      34|null|     null|        13|     null|   null|  null|null|null|False|False|False|2014-10-17T00:53:...|2014-10-17T00:53:...|\n",
      "| 12|              Dodoma|      dodoma|      36|null|     null|        14|     null|   null|  null|null|null|False|False|False|2014-10-17T00:53:...|2014-10-17T00:53:...|\n",
      "| 13|             Kampala|     kampala|      38|null|     null|        15|     null|   null|  null|   2|null|False|False|False|2014-10-17T00:53:...|2014-10-17T00:53:...|\n",
      "| 14|              Lusaka|      lusaka|      40|null|     null|        16|     null|   null|  null|   2|null|False|False|False|2014-10-17T00:53:...|2014-10-17T00:53:...|\n",
      "| 15|              Harare|      harare|      42|null|     null|        17|     null|   null|  null|   2|null|False|False|False|2014-10-17T00:53:...|2014-10-17T00:53:...|\n",
      "| 16|              Luanda|      luanda|      44|null|     null|        18|     null|   null|  null|   6|null|False|False|False|2014-10-17T00:53:...|2014-10-17T00:53:...|\n",
      "| 17|              Bangui|      bangui|      47|null|     null|        20|     null|   null|  null|   1|null|False|False|False|2014-10-17T00:53:...|2014-10-17T00:53:...|\n",
      "| 18|            Ndjamena|    ndjamena|      49|null|     null|        21|     null|   null|  null|   1|null|False|False|False|2014-10-17T00:53:...|2014-10-17T00:53:...|\n",
      "| 19|         Brazzaville| brazzaville|      51|null|     null|        22|     null|   null|  null|   1|null|False|False|False|2014-10-17T00:53:...|2014-10-17T00:53:...|\n",
      "| 20|            Kinshasa|    kinshasa|      53|null|     null|        23|     null|   null|  null|  10|null|False|False|False|2014-10-17T00:53:...|2014-10-17T00:53:...|\n",
      "+---+--------------------+------------+--------+----+---------+----------+---------+-------+------+----+----+-----+-----+-----+--------------------+--------------------+\n",
      "only showing top 20 rows\n",
      "\n"
     ]
    }
   ],
   "source": [
    "url = 'https://raw.githubusercontent.com/jokecamp/FootballData/master/openFootballData/cities.csv'\n",
    "from pyspark import SparkFiles\n",
    "spark.sparkContext.addFile(url)\n",
    "df = spark.read.csv(SparkFiles.get(\"cities.csv\"), header=True)\n",
    "df."
   ]
  }
 ],
 "metadata": {
  "kernelspec": {
   "display_name": "Python 3",
   "language": "python",
   "name": "python3"
  },
  "language_info": {
   "codemirror_mode": {
    "name": "ipython",
    "version": 3
   },
   "file_extension": ".py",
   "mimetype": "text/x-python",
   "name": "python",
   "nbconvert_exporter": "python",
   "pygments_lexer": "ipython3",
   "version": "3.8.8"
  }
 },
 "nbformat": 4,
 "nbformat_minor": 5
}
