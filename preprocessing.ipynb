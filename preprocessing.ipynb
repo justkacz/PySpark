{
 "cells": [
  {
   "cell_type": "code",
   "execution_count": 1,
   "id": "4008edb8",
   "metadata": {},
   "outputs": [],
   "source": [
    "import pandas as pd"
   ]
  },
  {
   "cell_type": "code",
   "execution_count": 2,
   "id": "62464da3",
   "metadata": {},
   "outputs": [
    {
     "data": {
      "text/html": [
       "\n",
       "            <div>\n",
       "                <p><b>SparkSession - in-memory</b></p>\n",
       "                \n",
       "        <div>\n",
       "            <p><b>SparkContext</b></p>\n",
       "\n",
       "            <p><a href=\"http://L204LTP.sap-flex.com:4041\">Spark UI</a></p>\n",
       "\n",
       "            <dl>\n",
       "              <dt>Version</dt>\n",
       "                <dd><code>v3.3.0</code></dd>\n",
       "              <dt>Master</dt>\n",
       "                <dd><code>local[*]</code></dd>\n",
       "              <dt>AppName</dt>\n",
       "                <dd><code>Training</code></dd>\n",
       "            </dl>\n",
       "        </div>\n",
       "        \n",
       "            </div>\n",
       "        "
      ],
      "text/plain": [
       "<pyspark.sql.session.SparkSession at 0x1b196ca1a00>"
      ]
     },
     "execution_count": 2,
     "metadata": {},
     "output_type": "execute_result"
    }
   ],
   "source": [
    "import pyspark\n",
    "from pyspark.sql import SparkSession\n",
    "\n",
    "spark=SparkSession.builder.appName('Training').getOrCreate()\n",
    "spark"
   ]
  },
  {
   "cell_type": "code",
   "execution_count": 5,
   "id": "be593549",
   "metadata": {},
   "outputs": [
    {
     "name": "stdout",
     "output_type": "stream",
     "text": [
      "+----------+----+------+---+------+----+\n",
      "|total_bill| tip|smoker|day|  time|size|\n",
      "+----------+----+------+---+------+----+\n",
      "|     16.99|1.01|    No|Sun|Dinner|   2|\n",
      "|     10.34|1.66|    No|Sun|Dinner|   3|\n",
      "|     21.01| 3.5|    No|Sun|Dinner|   3|\n",
      "|     23.68|3.31|    No|Sun|Dinner|   2|\n",
      "|     24.59|3.61|    No|Sun|Dinner|   4|\n",
      "|     25.29|4.71|    No|Sun|Dinner|   4|\n",
      "|      8.77| 2.0|    No|Sun|Dinner|   2|\n",
      "|     26.88|3.12|    No|Sun|Dinner|   4|\n",
      "|     15.04|1.96|    No|Sun|Dinner|   2|\n",
      "|     14.78|3.23|    No|Sun|Dinner|   2|\n",
      "|     10.27|1.71|    No|Sun|Dinner|   2|\n",
      "|     35.26| 5.0|    No|Sun|Dinner|   4|\n",
      "|     15.42|1.57|    No|Sun|Dinner|   2|\n",
      "|     18.43| 3.0|    No|Sun|Dinner|   4|\n",
      "|     14.83|3.02|    No|Sun|Dinner|   2|\n",
      "|     21.58|3.92|    No|Sun|Dinner|   2|\n",
      "|     10.33|1.67|    No|Sun|Dinner|   3|\n",
      "|     16.29|3.71|    No|Sun|Dinner|   3|\n",
      "|     16.97| 3.5|    No|Sun|Dinner|   3|\n",
      "|     20.65|3.35|    No|Sat|Dinner|   3|\n",
      "+----------+----+------+---+------+----+\n",
      "only showing top 20 rows\n",
      "\n"
     ]
    }
   ],
   "source": [
    "url = 'https://raw.githubusercontent.com/justkacz/csvfiles/main/tips.csv'\n",
    "from pyspark import SparkFiles\n",
    "\n",
    "spark.sparkContext.addFile(url)\n",
    "df = spark.read.csv(SparkFiles.get(\"tips.csv\"), header=True, inferSchema=True)\n",
    "df.show()"
   ]
  },
  {
   "cell_type": "code",
   "execution_count": null,
   "id": "601a6498",
   "metadata": {},
   "outputs": [],
   "source": []
  }
 ],
 "metadata": {
  "kernelspec": {
   "display_name": "Python 3",
   "language": "python",
   "name": "python3"
  },
  "language_info": {
   "codemirror_mode": {
    "name": "ipython",
    "version": 3
   },
   "file_extension": ".py",
   "mimetype": "text/x-python",
   "name": "python",
   "nbconvert_exporter": "python",
   "pygments_lexer": "ipython3",
   "version": "3.8.8"
  }
 },
 "nbformat": 4,
 "nbformat_minor": 5
}
